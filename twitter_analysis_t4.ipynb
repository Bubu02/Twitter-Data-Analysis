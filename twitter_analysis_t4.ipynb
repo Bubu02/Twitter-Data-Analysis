{
 "cells": [
  {
   "metadata": {},
   "cell_type": "markdown",
   "source": "#### ***4. Create a line chart showing the trend of the average engagement rate over each month of the year. Separate the lines for tweets with media content and those without and this graph should work only between 3PM IST to 5 PM IST and 7 AM to 11AM apart from that time we should not show this graph in dashboard itself and the tweet engagement should be even number and tweet date should be odd number as well as tweet character count should be above 20 and need to remove tweet word which has letter 'C'.***",
   "id": "313df77942f5c9b3"
  },
  {
   "metadata": {
    "ExecuteTime": {
     "end_time": "2025-10-22T17:06:14.668376Z",
     "start_time": "2025-10-22T17:06:14.624462Z"
    }
   },
   "cell_type": "code",
   "source": [
    "import pandas as pd\n",
    "import matplotlib.pyplot as plt\n",
    "import re\n",
    "\n",
    "# Define the file path\n",
    "file_path = \"twitter.csv\"\n",
    "\n",
    "# --- Data Loading ---\n",
    "try:\n",
    "    df = pd.read_csv(file_path)\n",
    "except FileNotFoundError:\n",
    "    print(f\"Error: The file '{file_path}' was not found.\")\n",
    "    exit() # Exit if file not found\n",
    "except Exception as e:\n",
    "    print(f\"Error reading CSV file: {e}\")\n",
    "    exit() # Exit on other CSV reading errors"
   ],
   "id": "9b56c3da9c678dd4",
   "outputs": [],
   "execution_count": 19
  },
  {
   "metadata": {
    "ExecuteTime": {
     "end_time": "2025-10-22T17:06:14.710800Z",
     "start_time": "2025-10-22T17:06:14.676804Z"
    }
   },
   "cell_type": "code",
   "source": "df.head(5)",
   "id": "f6fb2b3b6d228768",
   "outputs": [
    {
     "data": {
      "text/plain": [
       "   Unnamed: 0                                              Tweet  \\\n",
       "0           0  id ligula suspendisse ornare consequat lectus ...   \n",
       "1           1  euismod scelerisque quam turpis adipiscing lor...   \n",
       "2           2  leo rhoncus sed vestibulum sit amet cursus id ...   \n",
       "3           3  aenean lectus pellentesque eget nunc donec qui...   \n",
       "4           4  sed accumsan felis ut at dolor quis odio conse...   \n",
       "\n",
       "             id                       time  impressions  engagements  \\\n",
       "0  6.670000e+15  2020-06-30 21:09:00+00:00          365            4   \n",
       "1  8.270000e+15  2020-06-30 17:14:00+00:00          184            2   \n",
       "2  2.810000e+14  2020-06-30 16:59:00+00:00         2644           46   \n",
       "3  7.760000e+15  2020-06-30 13:55:00+00:00          301            3   \n",
       "4  6.130000e+15  2020-06-30 12:13:00+00:00          528            0   \n",
       "\n",
       "   engagement rate  retweets  replies  likes  ...  url clicks  hashtag clicks  \\\n",
       "0         0.010959         0        0      1  ...           0               0   \n",
       "1         0.010870         0        0      2  ...           0               0   \n",
       "2         0.017398         1        1     17  ...           3               0   \n",
       "3         0.009967         0        1      2  ...           0               0   \n",
       "4         0.000000         0        0      0  ...           0               0   \n",
       "\n",
       "   detail expands  media views  media engagements        date time_extracted  \\\n",
       "0               1            0                  0  30-06-2020          21:09   \n",
       "1               0            0                  0  30-06-2020          17:14   \n",
       "2              23          354                  1  30-06-2020          16:59   \n",
       "3               0            0                  0  30-06-2020          13:55   \n",
       "4               0            0                  0  30-06-2020          12:13   \n",
       "\n",
       "  Day  Month  Year  \n",
       "0  30      6  2020  \n",
       "1  30      6  2020  \n",
       "2  30      6  2020  \n",
       "3  30      6  2020  \n",
       "4  30      6  2020  \n",
       "\n",
       "[5 rows x 21 columns]"
      ],
      "text/html": [
       "<div>\n",
       "<style scoped>\n",
       "    .dataframe tbody tr th:only-of-type {\n",
       "        vertical-align: middle;\n",
       "    }\n",
       "\n",
       "    .dataframe tbody tr th {\n",
       "        vertical-align: top;\n",
       "    }\n",
       "\n",
       "    .dataframe thead th {\n",
       "        text-align: right;\n",
       "    }\n",
       "</style>\n",
       "<table border=\"1\" class=\"dataframe\">\n",
       "  <thead>\n",
       "    <tr style=\"text-align: right;\">\n",
       "      <th></th>\n",
       "      <th>Unnamed: 0</th>\n",
       "      <th>Tweet</th>\n",
       "      <th>id</th>\n",
       "      <th>time</th>\n",
       "      <th>impressions</th>\n",
       "      <th>engagements</th>\n",
       "      <th>engagement rate</th>\n",
       "      <th>retweets</th>\n",
       "      <th>replies</th>\n",
       "      <th>likes</th>\n",
       "      <th>...</th>\n",
       "      <th>url clicks</th>\n",
       "      <th>hashtag clicks</th>\n",
       "      <th>detail expands</th>\n",
       "      <th>media views</th>\n",
       "      <th>media engagements</th>\n",
       "      <th>date</th>\n",
       "      <th>time_extracted</th>\n",
       "      <th>Day</th>\n",
       "      <th>Month</th>\n",
       "      <th>Year</th>\n",
       "    </tr>\n",
       "  </thead>\n",
       "  <tbody>\n",
       "    <tr>\n",
       "      <th>0</th>\n",
       "      <td>0</td>\n",
       "      <td>id ligula suspendisse ornare consequat lectus ...</td>\n",
       "      <td>6.670000e+15</td>\n",
       "      <td>2020-06-30 21:09:00+00:00</td>\n",
       "      <td>365</td>\n",
       "      <td>4</td>\n",
       "      <td>0.010959</td>\n",
       "      <td>0</td>\n",
       "      <td>0</td>\n",
       "      <td>1</td>\n",
       "      <td>...</td>\n",
       "      <td>0</td>\n",
       "      <td>0</td>\n",
       "      <td>1</td>\n",
       "      <td>0</td>\n",
       "      <td>0</td>\n",
       "      <td>30-06-2020</td>\n",
       "      <td>21:09</td>\n",
       "      <td>30</td>\n",
       "      <td>6</td>\n",
       "      <td>2020</td>\n",
       "    </tr>\n",
       "    <tr>\n",
       "      <th>1</th>\n",
       "      <td>1</td>\n",
       "      <td>euismod scelerisque quam turpis adipiscing lor...</td>\n",
       "      <td>8.270000e+15</td>\n",
       "      <td>2020-06-30 17:14:00+00:00</td>\n",
       "      <td>184</td>\n",
       "      <td>2</td>\n",
       "      <td>0.010870</td>\n",
       "      <td>0</td>\n",
       "      <td>0</td>\n",
       "      <td>2</td>\n",
       "      <td>...</td>\n",
       "      <td>0</td>\n",
       "      <td>0</td>\n",
       "      <td>0</td>\n",
       "      <td>0</td>\n",
       "      <td>0</td>\n",
       "      <td>30-06-2020</td>\n",
       "      <td>17:14</td>\n",
       "      <td>30</td>\n",
       "      <td>6</td>\n",
       "      <td>2020</td>\n",
       "    </tr>\n",
       "    <tr>\n",
       "      <th>2</th>\n",
       "      <td>2</td>\n",
       "      <td>leo rhoncus sed vestibulum sit amet cursus id ...</td>\n",
       "      <td>2.810000e+14</td>\n",
       "      <td>2020-06-30 16:59:00+00:00</td>\n",
       "      <td>2644</td>\n",
       "      <td>46</td>\n",
       "      <td>0.017398</td>\n",
       "      <td>1</td>\n",
       "      <td>1</td>\n",
       "      <td>17</td>\n",
       "      <td>...</td>\n",
       "      <td>3</td>\n",
       "      <td>0</td>\n",
       "      <td>23</td>\n",
       "      <td>354</td>\n",
       "      <td>1</td>\n",
       "      <td>30-06-2020</td>\n",
       "      <td>16:59</td>\n",
       "      <td>30</td>\n",
       "      <td>6</td>\n",
       "      <td>2020</td>\n",
       "    </tr>\n",
       "    <tr>\n",
       "      <th>3</th>\n",
       "      <td>3</td>\n",
       "      <td>aenean lectus pellentesque eget nunc donec qui...</td>\n",
       "      <td>7.760000e+15</td>\n",
       "      <td>2020-06-30 13:55:00+00:00</td>\n",
       "      <td>301</td>\n",
       "      <td>3</td>\n",
       "      <td>0.009967</td>\n",
       "      <td>0</td>\n",
       "      <td>1</td>\n",
       "      <td>2</td>\n",
       "      <td>...</td>\n",
       "      <td>0</td>\n",
       "      <td>0</td>\n",
       "      <td>0</td>\n",
       "      <td>0</td>\n",
       "      <td>0</td>\n",
       "      <td>30-06-2020</td>\n",
       "      <td>13:55</td>\n",
       "      <td>30</td>\n",
       "      <td>6</td>\n",
       "      <td>2020</td>\n",
       "    </tr>\n",
       "    <tr>\n",
       "      <th>4</th>\n",
       "      <td>4</td>\n",
       "      <td>sed accumsan felis ut at dolor quis odio conse...</td>\n",
       "      <td>6.130000e+15</td>\n",
       "      <td>2020-06-30 12:13:00+00:00</td>\n",
       "      <td>528</td>\n",
       "      <td>0</td>\n",
       "      <td>0.000000</td>\n",
       "      <td>0</td>\n",
       "      <td>0</td>\n",
       "      <td>0</td>\n",
       "      <td>...</td>\n",
       "      <td>0</td>\n",
       "      <td>0</td>\n",
       "      <td>0</td>\n",
       "      <td>0</td>\n",
       "      <td>0</td>\n",
       "      <td>30-06-2020</td>\n",
       "      <td>12:13</td>\n",
       "      <td>30</td>\n",
       "      <td>6</td>\n",
       "      <td>2020</td>\n",
       "    </tr>\n",
       "  </tbody>\n",
       "</table>\n",
       "<p>5 rows × 21 columns</p>\n",
       "</div>"
      ]
     },
     "execution_count": 20,
     "metadata": {},
     "output_type": "execute_result"
    }
   ],
   "execution_count": 20
  },
  {
   "metadata": {},
   "cell_type": "markdown",
   "source": "### Data Preprocessing",
   "id": "d303fed953c9f860"
  },
  {
   "metadata": {
    "ExecuteTime": {
     "end_time": "2025-10-22T17:06:14.788515Z",
     "start_time": "2025-10-22T17:06:14.750823Z"
    }
   },
   "cell_type": "code",
   "source": [
    "# Convert 'Date' to datetime objects\n",
    "df['Date'] = pd.to_datetime(df['date'])\n",
    "df['Month'] = df['Date'].dt.month"
   ],
   "id": "3c9a0be054a62e2c",
   "outputs": [
    {
     "name": "stderr",
     "output_type": "stream",
     "text": [
      "C:\\Users\\mebub_9a7jdi8\\AppData\\Local\\Temp\\ipykernel_9924\\2865370075.py:2: UserWarning: Parsing dates in %d-%m-%Y format when dayfirst=False (the default) was specified. Pass `dayfirst=True` or specify a format to silence this warning.\n",
      "  df['Date'] = pd.to_datetime(df['date'])\n"
     ]
    }
   ],
   "execution_count": 21
  },
  {
   "metadata": {
    "ExecuteTime": {
     "end_time": "2025-10-22T17:06:14.835402Z",
     "start_time": "2025-10-22T17:06:14.807378Z"
    }
   },
   "cell_type": "code",
   "source": [
    "# Calculate character count\n",
    "df['character_count'] = df['Tweet'].apply(lambda x: len(str(x)))\n",
    "\n",
    "# Calculate engagement rate: (Likes + Retweets) / Impressions\n",
    "# Handle cases where Impressions might be zero to avoid division by zero\n",
    "df['engagement_rate'] = df.apply(\n",
    "    lambda row: (row['likes'] + row['retweets']) / row['impressions'] if row['impressions'] > 0 else 0,\n",
    "    axis=1\n",
    ")"
   ],
   "id": "6b8ce4b96ebb841b",
   "outputs": [],
   "execution_count": 22
  },
  {
   "metadata": {
    "ExecuteTime": {
     "end_time": "2025-10-22T17:06:14.882196Z",
     "start_time": "2025-10-22T17:06:14.846846Z"
    }
   },
   "cell_type": "code",
   "source": "df.info()",
   "id": "7a2629a0a7003d0e",
   "outputs": [
    {
     "name": "stdout",
     "output_type": "stream",
     "text": [
      "<class 'pandas.core.frame.DataFrame'>\n",
      "RangeIndex: 1166 entries, 0 to 1165\n",
      "Data columns (total 24 columns):\n",
      " #   Column               Non-Null Count  Dtype         \n",
      "---  ------               --------------  -----         \n",
      " 0   Unnamed: 0           1166 non-null   int64         \n",
      " 1   Tweet                1166 non-null   object        \n",
      " 2   id                   1166 non-null   float64       \n",
      " 3   time                 1166 non-null   object        \n",
      " 4   impressions          1166 non-null   int64         \n",
      " 5   engagements          1166 non-null   int64         \n",
      " 6   engagement rate      1166 non-null   float64       \n",
      " 7   retweets             1166 non-null   int64         \n",
      " 8   replies              1166 non-null   int64         \n",
      " 9   likes                1166 non-null   int64         \n",
      " 10  user profile clicks  1166 non-null   int64         \n",
      " 11  url clicks           1166 non-null   int64         \n",
      " 12  hashtag clicks       1166 non-null   int64         \n",
      " 13  detail expands       1166 non-null   int64         \n",
      " 14  media views          1166 non-null   int64         \n",
      " 15  media engagements    1166 non-null   int64         \n",
      " 16  date                 1166 non-null   object        \n",
      " 17  time_extracted       1166 non-null   object        \n",
      " 18  Day                  1166 non-null   int64         \n",
      " 19  Month                1166 non-null   int32         \n",
      " 20  Year                 1166 non-null   int64         \n",
      " 21  Date                 1166 non-null   datetime64[ns]\n",
      " 22  character_count      1166 non-null   int64         \n",
      " 23  engagement_rate      1166 non-null   float64       \n",
      "dtypes: datetime64[ns](1), float64(3), int32(1), int64(15), object(4)\n",
      "memory usage: 214.2+ KB\n"
     ]
    }
   ],
   "execution_count": 23
  },
  {
   "metadata": {},
   "cell_type": "markdown",
   "source": "### Apply Filters",
   "id": "b011a75c8b5eae49"
  },
  {
   "metadata": {
    "ExecuteTime": {
     "end_time": "2025-10-22T17:06:14.913067Z",
     "start_time": "2025-10-22T17:06:14.895334Z"
    }
   },
   "cell_type": "code",
   "source": [
    "# 1. Tweet engagement rate (rounded to nearest integer) must be an even number.\n",
    "# We multiply by 100 to get a more granular integer for checking even/odd\n",
    "df = df[df['engagement_rate'].apply(lambda x: round(x * 100) % 2 == 0)]"
   ],
   "id": "2f3aa3b7b1c56638",
   "outputs": [],
   "execution_count": 24
  },
  {
   "metadata": {
    "ExecuteTime": {
     "end_time": "2025-10-22T17:06:14.944540Z",
     "start_time": "2025-10-22T17:06:14.924280Z"
    }
   },
   "cell_type": "code",
   "source": "df.info()",
   "id": "9782c1c4560272e8",
   "outputs": [
    {
     "name": "stdout",
     "output_type": "stream",
     "text": [
      "<class 'pandas.core.frame.DataFrame'>\n",
      "Index: 602 entries, 0 to 1165\n",
      "Data columns (total 24 columns):\n",
      " #   Column               Non-Null Count  Dtype         \n",
      "---  ------               --------------  -----         \n",
      " 0   Unnamed: 0           602 non-null    int64         \n",
      " 1   Tweet                602 non-null    object        \n",
      " 2   id                   602 non-null    float64       \n",
      " 3   time                 602 non-null    object        \n",
      " 4   impressions          602 non-null    int64         \n",
      " 5   engagements          602 non-null    int64         \n",
      " 6   engagement rate      602 non-null    float64       \n",
      " 7   retweets             602 non-null    int64         \n",
      " 8   replies              602 non-null    int64         \n",
      " 9   likes                602 non-null    int64         \n",
      " 10  user profile clicks  602 non-null    int64         \n",
      " 11  url clicks           602 non-null    int64         \n",
      " 12  hashtag clicks       602 non-null    int64         \n",
      " 13  detail expands       602 non-null    int64         \n",
      " 14  media views          602 non-null    int64         \n",
      " 15  media engagements    602 non-null    int64         \n",
      " 16  date                 602 non-null    object        \n",
      " 17  time_extracted       602 non-null    object        \n",
      " 18  Day                  602 non-null    int64         \n",
      " 19  Month                602 non-null    int32         \n",
      " 20  Year                 602 non-null    int64         \n",
      " 21  Date                 602 non-null    datetime64[ns]\n",
      " 22  character_count      602 non-null    int64         \n",
      " 23  engagement_rate      602 non-null    float64       \n",
      "dtypes: datetime64[ns](1), float64(3), int32(1), int64(15), object(4)\n",
      "memory usage: 115.2+ KB\n"
     ]
    }
   ],
   "execution_count": 25
  },
  {
   "metadata": {
    "ExecuteTime": {
     "end_time": "2025-10-22T17:06:14.976428Z",
     "start_time": "2025-10-22T17:06:14.956815Z"
    }
   },
   "cell_type": "code",
   "source": [
    "# 2. Tweet date (day of the month) must be an odd number.\n",
    "df = df[df['Date'].dt.day % 2 != 0]"
   ],
   "id": "c5cdac935f59b3fb",
   "outputs": [],
   "execution_count": 26
  },
  {
   "metadata": {
    "ExecuteTime": {
     "end_time": "2025-10-22T17:06:15.008617Z",
     "start_time": "2025-10-22T17:06:14.988031Z"
    }
   },
   "cell_type": "code",
   "source": "df.info()",
   "id": "128696920c569b14",
   "outputs": [
    {
     "name": "stdout",
     "output_type": "stream",
     "text": [
      "<class 'pandas.core.frame.DataFrame'>\n",
      "Index: 326 entries, 34 to 1165\n",
      "Data columns (total 24 columns):\n",
      " #   Column               Non-Null Count  Dtype         \n",
      "---  ------               --------------  -----         \n",
      " 0   Unnamed: 0           326 non-null    int64         \n",
      " 1   Tweet                326 non-null    object        \n",
      " 2   id                   326 non-null    float64       \n",
      " 3   time                 326 non-null    object        \n",
      " 4   impressions          326 non-null    int64         \n",
      " 5   engagements          326 non-null    int64         \n",
      " 6   engagement rate      326 non-null    float64       \n",
      " 7   retweets             326 non-null    int64         \n",
      " 8   replies              326 non-null    int64         \n",
      " 9   likes                326 non-null    int64         \n",
      " 10  user profile clicks  326 non-null    int64         \n",
      " 11  url clicks           326 non-null    int64         \n",
      " 12  hashtag clicks       326 non-null    int64         \n",
      " 13  detail expands       326 non-null    int64         \n",
      " 14  media views          326 non-null    int64         \n",
      " 15  media engagements    326 non-null    int64         \n",
      " 16  date                 326 non-null    object        \n",
      " 17  time_extracted       326 non-null    object        \n",
      " 18  Day                  326 non-null    int64         \n",
      " 19  Month                326 non-null    int32         \n",
      " 20  Year                 326 non-null    int64         \n",
      " 21  Date                 326 non-null    datetime64[ns]\n",
      " 22  character_count      326 non-null    int64         \n",
      " 23  engagement_rate      326 non-null    float64       \n",
      "dtypes: datetime64[ns](1), float64(3), int32(1), int64(15), object(4)\n",
      "memory usage: 62.4+ KB\n"
     ]
    }
   ],
   "execution_count": 27
  },
  {
   "metadata": {
    "ExecuteTime": {
     "end_time": "2025-10-22T17:06:15.054410Z",
     "start_time": "2025-10-22T17:06:15.036930Z"
    }
   },
   "cell_type": "code",
   "source": [
    "# 3. Tweet character count must be above 20.\n",
    "df = df[df['character_count'] > 20]"
   ],
   "id": "26991eb07627023d",
   "outputs": [],
   "execution_count": 28
  },
  {
   "metadata": {
    "ExecuteTime": {
     "end_time": "2025-10-22T17:06:15.085443Z",
     "start_time": "2025-10-22T17:06:15.067158Z"
    }
   },
   "cell_type": "code",
   "source": "df.info()",
   "id": "8b18b98799bad9a5",
   "outputs": [
    {
     "name": "stdout",
     "output_type": "stream",
     "text": [
      "<class 'pandas.core.frame.DataFrame'>\n",
      "Index: 326 entries, 34 to 1165\n",
      "Data columns (total 24 columns):\n",
      " #   Column               Non-Null Count  Dtype         \n",
      "---  ------               --------------  -----         \n",
      " 0   Unnamed: 0           326 non-null    int64         \n",
      " 1   Tweet                326 non-null    object        \n",
      " 2   id                   326 non-null    float64       \n",
      " 3   time                 326 non-null    object        \n",
      " 4   impressions          326 non-null    int64         \n",
      " 5   engagements          326 non-null    int64         \n",
      " 6   engagement rate      326 non-null    float64       \n",
      " 7   retweets             326 non-null    int64         \n",
      " 8   replies              326 non-null    int64         \n",
      " 9   likes                326 non-null    int64         \n",
      " 10  user profile clicks  326 non-null    int64         \n",
      " 11  url clicks           326 non-null    int64         \n",
      " 12  hashtag clicks       326 non-null    int64         \n",
      " 13  detail expands       326 non-null    int64         \n",
      " 14  media views          326 non-null    int64         \n",
      " 15  media engagements    326 non-null    int64         \n",
      " 16  date                 326 non-null    object        \n",
      " 17  time_extracted       326 non-null    object        \n",
      " 18  Day                  326 non-null    int64         \n",
      " 19  Month                326 non-null    int32         \n",
      " 20  Year                 326 non-null    int64         \n",
      " 21  Date                 326 non-null    datetime64[ns]\n",
      " 22  character_count      326 non-null    int64         \n",
      " 23  engagement_rate      326 non-null    float64       \n",
      "dtypes: datetime64[ns](1), float64(3), int32(1), int64(15), object(4)\n",
      "memory usage: 62.4+ KB\n"
     ]
    }
   ],
   "execution_count": 29
  },
  {
   "metadata": {
    "ExecuteTime": {
     "end_time": "2025-10-22T17:06:15.116365Z",
     "start_time": "2025-10-22T17:06:15.095518Z"
    }
   },
   "cell_type": "code",
   "source": [
    "# 4. Remove tweet words which have letter 'C'.\n",
    "def remove_words_with_c(tweet):\n",
    "    if isinstance(tweet, str):\n",
    "        words = tweet.split()\n",
    "        filtered_words = [word for word in words if 'c' not in word.lower()]\n",
    "        return ' '.join(filtered_words)\n",
    "    return tweet\n",
    "\n",
    "df['Tweet'] = df['Tweet'].apply(remove_words_with_c)"
   ],
   "id": "eb5f12abe7378681",
   "outputs": [],
   "execution_count": 30
  },
  {
   "metadata": {
    "ExecuteTime": {
     "end_time": "2025-10-22T17:06:15.147878Z",
     "start_time": "2025-10-22T17:06:15.126891Z"
    }
   },
   "cell_type": "code",
   "source": "df.info()",
   "id": "75b5bf189c98b555",
   "outputs": [
    {
     "name": "stdout",
     "output_type": "stream",
     "text": [
      "<class 'pandas.core.frame.DataFrame'>\n",
      "Index: 326 entries, 34 to 1165\n",
      "Data columns (total 24 columns):\n",
      " #   Column               Non-Null Count  Dtype         \n",
      "---  ------               --------------  -----         \n",
      " 0   Unnamed: 0           326 non-null    int64         \n",
      " 1   Tweet                326 non-null    object        \n",
      " 2   id                   326 non-null    float64       \n",
      " 3   time                 326 non-null    object        \n",
      " 4   impressions          326 non-null    int64         \n",
      " 5   engagements          326 non-null    int64         \n",
      " 6   engagement rate      326 non-null    float64       \n",
      " 7   retweets             326 non-null    int64         \n",
      " 8   replies              326 non-null    int64         \n",
      " 9   likes                326 non-null    int64         \n",
      " 10  user profile clicks  326 non-null    int64         \n",
      " 11  url clicks           326 non-null    int64         \n",
      " 12  hashtag clicks       326 non-null    int64         \n",
      " 13  detail expands       326 non-null    int64         \n",
      " 14  media views          326 non-null    int64         \n",
      " 15  media engagements    326 non-null    int64         \n",
      " 16  date                 326 non-null    object        \n",
      " 17  time_extracted       326 non-null    object        \n",
      " 18  Day                  326 non-null    int64         \n",
      " 19  Month                326 non-null    int32         \n",
      " 20  Year                 326 non-null    int64         \n",
      " 21  Date                 326 non-null    datetime64[ns]\n",
      " 22  character_count      326 non-null    int64         \n",
      " 23  engagement_rate      326 non-null    float64       \n",
      "dtypes: datetime64[ns](1), float64(3), int32(1), int64(15), object(4)\n",
      "memory usage: 62.4+ KB\n"
     ]
    }
   ],
   "execution_count": 31
  },
  {
   "metadata": {
    "ExecuteTime": {
     "end_time": "2025-10-22T17:06:15.164484Z",
     "start_time": "2025-10-22T17:06:15.157953Z"
    }
   },
   "cell_type": "code",
   "source": [
    "# Create 'has_media' column\n",
    "# Assuming 'Media' column indicates presence of media (e.g., non-null values)\n",
    "df['has_media'] = df['media views'] > 0"
   ],
   "id": "56b699e7d2797312",
   "outputs": [],
   "execution_count": 32
  },
  {
   "metadata": {
    "ExecuteTime": {
     "end_time": "2025-10-22T17:06:15.195513Z",
     "start_time": "2025-10-22T17:06:15.181082Z"
    }
   },
   "cell_type": "code",
   "source": [
    "# --- Data Aggregation ---\n",
    "\n",
    "# Group by month and media presence, then calculate average engagement rate\n",
    "grouped_data = df.groupby(['Month', 'has_media'])['engagement_rate'].mean().unstack()"
   ],
   "id": "3f4202a23eced79a",
   "outputs": [],
   "execution_count": 33
  },
  {
   "cell_type": "code",
   "id": "initial_id",
   "metadata": {
    "collapsed": true,
    "ExecuteTime": {
     "end_time": "2025-10-22T17:07:56.412375Z",
     "start_time": "2025-10-22T17:07:55.735036Z"
    }
   },
   "source": [
    "# --- Plotting ---\n",
    "\n",
    "plt.figure(figsize=(12, 7))\n",
    "if True in grouped_data.columns:\n",
    "    plt.plot(grouped_data.index, grouped_data[True], label='With Media', marker='o')\n",
    "if False in grouped_data.columns:\n",
    "    plt.plot(grouped_data.index, grouped_data[False], label='Without Media', marker='x')\n",
    "\n",
    "plt.title('Average Engagement Rate Trend by Month (Filtered Data)')\n",
    "plt.xlabel('Month')\n",
    "plt.ylabel('Average Engagement Rate')\n",
    "plt.xticks(range(1, 13), ['Jan', 'Feb', 'Mar', 'Apr', 'May', 'Jun', 'Jul', 'Aug', 'Sep', 'Oct', 'Nov', 'Dec'])\n",
    "plt.legend(title='Media Content')\n",
    "plt.grid(True)\n",
    "plt.tight_layout()\n",
    "\n",
    "# Add description of filters to the plot\n",
    "filters_description = (\n",
    "    \"Filters Applied:\\n\"\n",
    "    \"- Engagement Rate (rounded*100) is Even\\n\"\n",
    "    \"- Tweet Date (day) is Odd\\n\"\n",
    "    \"- Character Count > 20\\n\"\n",
    "    \"- Words with 'C' removed from Tweet text\"\n",
    ")\n",
    "# plt.figtext(0.02, 0.02, filters_description, ha=\"left\", fontsize=9, bbox={\"facecolor\":\"white\", \"alpha\":0.5, \"pad\":5})\n",
    "# plt.figtext(0.5, -0.1, filters_description, ha=\"center\", fontsize=10, wrap=True)\n",
    "plt.text(0.05, 0.95, filters_description, transform=plt.gca().transAxes, fontsize=10,\n",
    "         verticalalignment='top', bbox=dict(boxstyle='round,pad=0.5', fc='wheat', alpha=0.5))\n",
    "\n",
    "plt.savefig('engagement_rate_by_month_filtered.png')\n",
    "plt.show()"
   ],
   "outputs": [
    {
     "data": {
      "text/plain": [
       "<Figure size 1200x700 with 1 Axes>"
      ],
      "image/png": "[encoded data removed]"
     },
     "metadata": {},
     "output_type": "display_data"
    }
   ],
   "execution_count": 36
  },
  {
   "metadata": {},
   "cell_type": "code",
   "outputs": [],
   "execution_count": null,
   "source": "",
   "id": "15f473186871543"
  }
 ],
 "metadata": {
  "kernelspec": {
   "display_name": "Python 3",
   "language": "python",
   "name": "python3"
  },
  "language_info": {
   "codemirror_mode": {
    "name": "ipython",
    "version": 2
   },
   "file_extension": ".py",
   "mimetype": "text/x-python",
   "name": "python",
   "nbconvert_exporter": "python",
   "pygments_lexer": "ipython2",
   "version": "2.7.6"
  }
 },
 "nbformat": 4,
 "nbformat_minor": 5
}
