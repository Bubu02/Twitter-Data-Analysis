{
 "cells": [
  {
   "metadata": {},
   "cell_type": "markdown",
   "source": "#### ***3. Build a chart to identify the top 10 tweets by the sum of retweets and likes. Filter out tweets posted on weekends and show the user profile that posted each tweet and this graph should work only between 3PM IST to 5 PM IST apart from that time we should not show this graph in dashboard itself and the tweet impression should be even number and tweet date should be odd number as well as tweet word count be below 30.***",
   "id": "4f604328651fa72"
  },
  {
   "metadata": {
    "ExecuteTime": {
     "end_time": "2025-10-22T16:59:26.204361Z",
     "start_time": "2025-10-22T16:59:26.174341Z"
    }
   },
   "cell_type": "code",
   "source": [
    "import pandas as pd\n",
    "import matplotlib.pyplot as plt\n",
    "import seaborn as sns\n",
    "import re\n",
    "\n",
    "# Load the dataset\n",
    "df = pd.read_csv('twitter.csv')"
   ],
   "id": "873578494415ecf8",
   "outputs": [],
   "execution_count": 1
  },
  {
   "metadata": {
    "ExecuteTime": {
     "end_time": "2025-10-22T16:59:26.227745Z",
     "start_time": "2025-10-22T16:59:26.213126Z"
    }
   },
   "cell_type": "code",
   "source": [
    "# Convert 'date' to datetime objects\n",
    "df['date'] = pd.to_datetime(df['date'], format='%d-%m-%Y')"
   ],
   "id": "3d9ce244a4832774",
   "outputs": [],
   "execution_count": 2
  },
  {
   "metadata": {
    "ExecuteTime": {
     "end_time": "2025-10-22T16:59:26.268555Z",
     "start_time": "2025-10-22T16:59:26.240950Z"
    }
   },
   "cell_type": "code",
   "source": "df.info()",
   "id": "8a2c9b18944799ca",
   "outputs": [
    {
     "name": "stdout",
     "output_type": "stream",
     "text": [
      "<class 'pandas.core.frame.DataFrame'>\n",
      "RangeIndex: 1166 entries, 0 to 1165\n",
      "Data columns (total 21 columns):\n",
      " #   Column               Non-Null Count  Dtype         \n",
      "---  ------               --------------  -----         \n",
      " 0   Unnamed: 0           1166 non-null   int64         \n",
      " 1   Tweet                1166 non-null   object        \n",
      " 2   id                   1166 non-null   float64       \n",
      " 3   time                 1166 non-null   object        \n",
      " 4   impressions          1166 non-null   int64         \n",
      " 5   engagements          1166 non-null   int64         \n",
      " 6   engagement rate      1166 non-null   float64       \n",
      " 7   retweets             1166 non-null   int64         \n",
      " 8   replies              1166 non-null   int64         \n",
      " 9   likes                1166 non-null   int64         \n",
      " 10  user profile clicks  1166 non-null   int64         \n",
      " 11  url clicks           1166 non-null   int64         \n",
      " 12  hashtag clicks       1166 non-null   int64         \n",
      " 13  detail expands       1166 non-null   int64         \n",
      " 14  media views          1166 non-null   int64         \n",
      " 15  media engagements    1166 non-null   int64         \n",
      " 16  date                 1166 non-null   datetime64[ns]\n",
      " 17  time_extracted       1166 non-null   object        \n",
      " 18  Day                  1166 non-null   int64         \n",
      " 19  Month                1166 non-null   int64         \n",
      " 20  Year                 1166 non-null   int64         \n",
      "dtypes: datetime64[ns](1), float64(2), int64(15), object(3)\n",
      "memory usage: 191.4+ KB\n"
     ]
    }
   ],
   "execution_count": 3
  },
  {
   "metadata": {
    "ExecuteTime": {
     "end_time": "2025-10-22T16:59:26.334100Z",
     "start_time": "2025-10-22T16:59:26.294567Z"
    }
   },
   "cell_type": "code",
   "source": "df.head(5)",
   "id": "c91a9c42d63375b5",
   "outputs": [
    {
     "data": {
      "text/plain": [
       "   Unnamed: 0                                              Tweet  \\\n",
       "0           0  id ligula suspendisse ornare consequat lectus ...   \n",
       "1           1  euismod scelerisque quam turpis adipiscing lor...   \n",
       "2           2  leo rhoncus sed vestibulum sit amet cursus id ...   \n",
       "3           3  aenean lectus pellentesque eget nunc donec qui...   \n",
       "4           4  sed accumsan felis ut at dolor quis odio conse...   \n",
       "\n",
       "             id                       time  impressions  engagements  \\\n",
       "0  6.670000e+15  2020-06-30 21:09:00+00:00          365            4   \n",
       "1  8.270000e+15  2020-06-30 17:14:00+00:00          184            2   \n",
       "2  2.810000e+14  2020-06-30 16:59:00+00:00         2644           46   \n",
       "3  7.760000e+15  2020-06-30 13:55:00+00:00          301            3   \n",
       "4  6.130000e+15  2020-06-30 12:13:00+00:00          528            0   \n",
       "\n",
       "   engagement rate  retweets  replies  likes  ...  url clicks  hashtag clicks  \\\n",
       "0         0.010959         0        0      1  ...           0               0   \n",
       "1         0.010870         0        0      2  ...           0               0   \n",
       "2         0.017398         1        1     17  ...           3               0   \n",
       "3         0.009967         0        1      2  ...           0               0   \n",
       "4         0.000000         0        0      0  ...           0               0   \n",
       "\n",
       "   detail expands  media views  media engagements       date time_extracted  \\\n",
       "0               1            0                  0 2020-06-30          21:09   \n",
       "1               0            0                  0 2020-06-30          17:14   \n",
       "2              23          354                  1 2020-06-30          16:59   \n",
       "3               0            0                  0 2020-06-30          13:55   \n",
       "4               0            0                  0 2020-06-30          12:13   \n",
       "\n",
       "  Day  Month  Year  \n",
       "0  30      6  2020  \n",
       "1  30      6  2020  \n",
       "2  30      6  2020  \n",
       "3  30      6  2020  \n",
       "4  30      6  2020  \n",
       "\n",
       "[5 rows x 21 columns]"
      ],
      "text/html": [
       "<div>\n",
       "<style scoped>\n",
       "    .dataframe tbody tr th:only-of-type {\n",
       "        vertical-align: middle;\n",
       "    }\n",
       "\n",
       "    .dataframe tbody tr th {\n",
       "        vertical-align: top;\n",
       "    }\n",
       "\n",
       "    .dataframe thead th {\n",
       "        text-align: right;\n",
       "    }\n",
       "</style>\n",
       "<table border=\"1\" class=\"dataframe\">\n",
       "  <thead>\n",
       "    <tr style=\"text-align: right;\">\n",
       "      <th></th>\n",
       "      <th>Unnamed: 0</th>\n",
       "      <th>Tweet</th>\n",
       "      <th>id</th>\n",
       "      <th>time</th>\n",
       "      <th>impressions</th>\n",
       "      <th>engagements</th>\n",
       "      <th>engagement rate</th>\n",
       "      <th>retweets</th>\n",
       "      <th>replies</th>\n",
       "      <th>likes</th>\n",
       "      <th>...</th>\n",
       "      <th>url clicks</th>\n",
       "      <th>hashtag clicks</th>\n",
       "      <th>detail expands</th>\n",
       "      <th>media views</th>\n",
       "      <th>media engagements</th>\n",
       "      <th>date</th>\n",
       "      <th>time_extracted</th>\n",
       "      <th>Day</th>\n",
       "      <th>Month</th>\n",
       "      <th>Year</th>\n",
       "    </tr>\n",
       "  </thead>\n",
       "  <tbody>\n",
       "    <tr>\n",
       "      <th>0</th>\n",
       "      <td>0</td>\n",
       "      <td>id ligula suspendisse ornare consequat lectus ...</td>\n",
       "      <td>6.670000e+15</td>\n",
       "      <td>2020-06-30 21:09:00+00:00</td>\n",
       "      <td>365</td>\n",
       "      <td>4</td>\n",
       "      <td>0.010959</td>\n",
       "      <td>0</td>\n",
       "      <td>0</td>\n",
       "      <td>1</td>\n",
       "      <td>...</td>\n",
       "      <td>0</td>\n",
       "      <td>0</td>\n",
       "      <td>1</td>\n",
       "      <td>0</td>\n",
       "      <td>0</td>\n",
       "      <td>2020-06-30</td>\n",
       "      <td>21:09</td>\n",
       "      <td>30</td>\n",
       "      <td>6</td>\n",
       "      <td>2020</td>\n",
       "    </tr>\n",
       "    <tr>\n",
       "      <th>1</th>\n",
       "      <td>1</td>\n",
       "      <td>euismod scelerisque quam turpis adipiscing lor...</td>\n",
       "      <td>8.270000e+15</td>\n",
       "      <td>2020-06-30 17:14:00+00:00</td>\n",
       "      <td>184</td>\n",
       "      <td>2</td>\n",
       "      <td>0.010870</td>\n",
       "      <td>0</td>\n",
       "      <td>0</td>\n",
       "      <td>2</td>\n",
       "      <td>...</td>\n",
       "      <td>0</td>\n",
       "      <td>0</td>\n",
       "      <td>0</td>\n",
       "      <td>0</td>\n",
       "      <td>0</td>\n",
       "      <td>2020-06-30</td>\n",
       "      <td>17:14</td>\n",
       "      <td>30</td>\n",
       "      <td>6</td>\n",
       "      <td>2020</td>\n",
       "    </tr>\n",
       "    <tr>\n",
       "      <th>2</th>\n",
       "      <td>2</td>\n",
       "      <td>leo rhoncus sed vestibulum sit amet cursus id ...</td>\n",
       "      <td>2.810000e+14</td>\n",
       "      <td>2020-06-30 16:59:00+00:00</td>\n",
       "      <td>2644</td>\n",
       "      <td>46</td>\n",
       "      <td>0.017398</td>\n",
       "      <td>1</td>\n",
       "      <td>1</td>\n",
       "      <td>17</td>\n",
       "      <td>...</td>\n",
       "      <td>3</td>\n",
       "      <td>0</td>\n",
       "      <td>23</td>\n",
       "      <td>354</td>\n",
       "      <td>1</td>\n",
       "      <td>2020-06-30</td>\n",
       "      <td>16:59</td>\n",
       "      <td>30</td>\n",
       "      <td>6</td>\n",
       "      <td>2020</td>\n",
       "    </tr>\n",
       "    <tr>\n",
       "      <th>3</th>\n",
       "      <td>3</td>\n",
       "      <td>aenean lectus pellentesque eget nunc donec qui...</td>\n",
       "      <td>7.760000e+15</td>\n",
       "      <td>2020-06-30 13:55:00+00:00</td>\n",
       "      <td>301</td>\n",
       "      <td>3</td>\n",
       "      <td>0.009967</td>\n",
       "      <td>0</td>\n",
       "      <td>1</td>\n",
       "      <td>2</td>\n",
       "      <td>...</td>\n",
       "      <td>0</td>\n",
       "      <td>0</td>\n",
       "      <td>0</td>\n",
       "      <td>0</td>\n",
       "      <td>0</td>\n",
       "      <td>2020-06-30</td>\n",
       "      <td>13:55</td>\n",
       "      <td>30</td>\n",
       "      <td>6</td>\n",
       "      <td>2020</td>\n",
       "    </tr>\n",
       "    <tr>\n",
       "      <th>4</th>\n",
       "      <td>4</td>\n",
       "      <td>sed accumsan felis ut at dolor quis odio conse...</td>\n",
       "      <td>6.130000e+15</td>\n",
       "      <td>2020-06-30 12:13:00+00:00</td>\n",
       "      <td>528</td>\n",
       "      <td>0</td>\n",
       "      <td>0.000000</td>\n",
       "      <td>0</td>\n",
       "      <td>0</td>\n",
       "      <td>0</td>\n",
       "      <td>...</td>\n",
       "      <td>0</td>\n",
       "      <td>0</td>\n",
       "      <td>0</td>\n",
       "      <td>0</td>\n",
       "      <td>0</td>\n",
       "      <td>2020-06-30</td>\n",
       "      <td>12:13</td>\n",
       "      <td>30</td>\n",
       "      <td>6</td>\n",
       "      <td>2020</td>\n",
       "    </tr>\n",
       "  </tbody>\n",
       "</table>\n",
       "<p>5 rows × 21 columns</p>\n",
       "</div>"
      ]
     },
     "execution_count": 4,
     "metadata": {},
     "output_type": "execute_result"
    }
   ],
   "execution_count": 4
  },
  {
   "metadata": {
    "ExecuteTime": {
     "end_time": "2025-10-22T16:59:26.389940Z",
     "start_time": "2025-10-22T16:59:26.375280Z"
    }
   },
   "cell_type": "code",
   "source": [
    "# Function to extract the last hashtag\n",
    "def extract_last_hashtag(tweet):\n",
    "    hashtags = re.findall(r'#(\\w+)', tweet)\n",
    "    if hashtags:\n",
    "        return hashtags[-1]\n",
    "    return None\n",
    "\n",
    "# Apply the function to create a new 'user_profile' column\n",
    "df['user_profile'] = df['Tweet'].apply(extract_last_hashtag)"
   ],
   "id": "368ec5434f377ad7",
   "outputs": [],
   "execution_count": 5
  },
  {
   "metadata": {
    "ExecuteTime": {
     "end_time": "2025-10-22T16:59:26.405197Z",
     "start_time": "2025-10-22T16:59:26.398842Z"
    }
   },
   "cell_type": "code",
   "source": [
    "# Filter 1: Exclude weekends\n",
    "df_filtered = df[df['date'].dt.dayofweek < 5]"
   ],
   "id": "6272171dffe523b4",
   "outputs": [],
   "execution_count": 6
  },
  {
   "metadata": {
    "ExecuteTime": {
     "end_time": "2025-10-22T16:59:26.436582Z",
     "start_time": "2025-10-22T16:59:26.416272Z"
    }
   },
   "cell_type": "code",
   "source": "df_filtered.info()",
   "id": "6b360c58ac08ddef",
   "outputs": [
    {
     "name": "stdout",
     "output_type": "stream",
     "text": [
      "<class 'pandas.core.frame.DataFrame'>\n",
      "Index: 1036 entries, 0 to 1165\n",
      "Data columns (total 22 columns):\n",
      " #   Column               Non-Null Count  Dtype         \n",
      "---  ------               --------------  -----         \n",
      " 0   Unnamed: 0           1036 non-null   int64         \n",
      " 1   Tweet                1036 non-null   object        \n",
      " 2   id                   1036 non-null   float64       \n",
      " 3   time                 1036 non-null   object        \n",
      " 4   impressions          1036 non-null   int64         \n",
      " 5   engagements          1036 non-null   int64         \n",
      " 6   engagement rate      1036 non-null   float64       \n",
      " 7   retweets             1036 non-null   int64         \n",
      " 8   replies              1036 non-null   int64         \n",
      " 9   likes                1036 non-null   int64         \n",
      " 10  user profile clicks  1036 non-null   int64         \n",
      " 11  url clicks           1036 non-null   int64         \n",
      " 12  hashtag clicks       1036 non-null   int64         \n",
      " 13  detail expands       1036 non-null   int64         \n",
      " 14  media views          1036 non-null   int64         \n",
      " 15  media engagements    1036 non-null   int64         \n",
      " 16  date                 1036 non-null   datetime64[ns]\n",
      " 17  time_extracted       1036 non-null   object        \n",
      " 18  Day                  1036 non-null   int64         \n",
      " 19  Month                1036 non-null   int64         \n",
      " 20  Year                 1036 non-null   int64         \n",
      " 21  user_profile         1036 non-null   object        \n",
      "dtypes: datetime64[ns](1), float64(2), int64(15), object(4)\n",
      "memory usage: 186.2+ KB\n"
     ]
    }
   ],
   "execution_count": 7
  },
  {
   "metadata": {
    "ExecuteTime": {
     "end_time": "2025-10-22T16:59:26.492644Z",
     "start_time": "2025-10-22T16:59:26.463392Z"
    }
   },
   "cell_type": "code",
   "source": "df.head(5)",
   "id": "7c908a8f30abccb6",
   "outputs": [
    {
     "data": {
      "text/plain": [
       "   Unnamed: 0                                              Tweet  \\\n",
       "0           0  id ligula suspendisse ornare consequat lectus ...   \n",
       "1           1  euismod scelerisque quam turpis adipiscing lor...   \n",
       "2           2  leo rhoncus sed vestibulum sit amet cursus id ...   \n",
       "3           3  aenean lectus pellentesque eget nunc donec qui...   \n",
       "4           4  sed accumsan felis ut at dolor quis odio conse...   \n",
       "\n",
       "             id                       time  impressions  engagements  \\\n",
       "0  6.670000e+15  2020-06-30 21:09:00+00:00          365            4   \n",
       "1  8.270000e+15  2020-06-30 17:14:00+00:00          184            2   \n",
       "2  2.810000e+14  2020-06-30 16:59:00+00:00         2644           46   \n",
       "3  7.760000e+15  2020-06-30 13:55:00+00:00          301            3   \n",
       "4  6.130000e+15  2020-06-30 12:13:00+00:00          528            0   \n",
       "\n",
       "   engagement rate  retweets  replies  likes  ...  hashtag clicks  \\\n",
       "0         0.010959         0        0      1  ...               0   \n",
       "1         0.010870         0        0      2  ...               0   \n",
       "2         0.017398         1        1     17  ...               0   \n",
       "3         0.009967         0        1      2  ...               0   \n",
       "4         0.000000         0        0      0  ...               0   \n",
       "\n",
       "   detail expands  media views  media engagements       date  time_extracted  \\\n",
       "0               1            0                  0 2020-06-30           21:09   \n",
       "1               0            0                  0 2020-06-30           17:14   \n",
       "2              23          354                  1 2020-06-30           16:59   \n",
       "3               0            0                  0 2020-06-30           13:55   \n",
       "4               0            0                  0 2020-06-30           12:13   \n",
       "\n",
       "  Day Month  Year  user_profile  \n",
       "0  30     6  2020        tellus  \n",
       "1  30     6  2020   ullamcorper  \n",
       "2  30     6  2020            in  \n",
       "3  30     6  2020     vulputate  \n",
       "4  30     6  2020       nonummy  \n",
       "\n",
       "[5 rows x 22 columns]"
      ],
      "text/html": [
       "<div>\n",
       "<style scoped>\n",
       "    .dataframe tbody tr th:only-of-type {\n",
       "        vertical-align: middle;\n",
       "    }\n",
       "\n",
       "    .dataframe tbody tr th {\n",
       "        vertical-align: top;\n",
       "    }\n",
       "\n",
       "    .dataframe thead th {\n",
       "        text-align: right;\n",
       "    }\n",
       "</style>\n",
       "<table border=\"1\" class=\"dataframe\">\n",
       "  <thead>\n",
       "    <tr style=\"text-align: right;\">\n",
       "      <th></th>\n",
       "      <th>Unnamed: 0</th>\n",
       "      <th>Tweet</th>\n",
       "      <th>id</th>\n",
       "      <th>time</th>\n",
       "      <th>impressions</th>\n",
       "      <th>engagements</th>\n",
       "      <th>engagement rate</th>\n",
       "      <th>retweets</th>\n",
       "      <th>replies</th>\n",
       "      <th>likes</th>\n",
       "      <th>...</th>\n",
       "      <th>hashtag clicks</th>\n",
       "      <th>detail expands</th>\n",
       "      <th>media views</th>\n",
       "      <th>media engagements</th>\n",
       "      <th>date</th>\n",
       "      <th>time_extracted</th>\n",
       "      <th>Day</th>\n",
       "      <th>Month</th>\n",
       "      <th>Year</th>\n",
       "      <th>user_profile</th>\n",
       "    </tr>\n",
       "  </thead>\n",
       "  <tbody>\n",
       "    <tr>\n",
       "      <th>0</th>\n",
       "      <td>0</td>\n",
       "      <td>id ligula suspendisse ornare consequat lectus ...</td>\n",
       "      <td>6.670000e+15</td>\n",
       "      <td>2020-06-30 21:09:00+00:00</td>\n",
       "      <td>365</td>\n",
       "      <td>4</td>\n",
       "      <td>0.010959</td>\n",
       "      <td>0</td>\n",
       "      <td>0</td>\n",
       "      <td>1</td>\n",
       "      <td>...</td>\n",
       "      <td>0</td>\n",
       "      <td>1</td>\n",
       "      <td>0</td>\n",
       "      <td>0</td>\n",
       "      <td>2020-06-30</td>\n",
       "      <td>21:09</td>\n",
       "      <td>30</td>\n",
       "      <td>6</td>\n",
       "      <td>2020</td>\n",
       "      <td>tellus</td>\n",
       "    </tr>\n",
       "    <tr>\n",
       "      <th>1</th>\n",
       "      <td>1</td>\n",
       "      <td>euismod scelerisque quam turpis adipiscing lor...</td>\n",
       "      <td>8.270000e+15</td>\n",
       "      <td>2020-06-30 17:14:00+00:00</td>\n",
       "      <td>184</td>\n",
       "      <td>2</td>\n",
       "      <td>0.010870</td>\n",
       "      <td>0</td>\n",
       "      <td>0</td>\n",
       "      <td>2</td>\n",
       "      <td>...</td>\n",
       "      <td>0</td>\n",
       "      <td>0</td>\n",
       "      <td>0</td>\n",
       "      <td>0</td>\n",
       "      <td>2020-06-30</td>\n",
       "      <td>17:14</td>\n",
       "      <td>30</td>\n",
       "      <td>6</td>\n",
       "      <td>2020</td>\n",
       "      <td>ullamcorper</td>\n",
       "    </tr>\n",
       "    <tr>\n",
       "      <th>2</th>\n",
       "      <td>2</td>\n",
       "      <td>leo rhoncus sed vestibulum sit amet cursus id ...</td>\n",
       "      <td>2.810000e+14</td>\n",
       "      <td>2020-06-30 16:59:00+00:00</td>\n",
       "      <td>2644</td>\n",
       "      <td>46</td>\n",
       "      <td>0.017398</td>\n",
       "      <td>1</td>\n",
       "      <td>1</td>\n",
       "      <td>17</td>\n",
       "      <td>...</td>\n",
       "      <td>0</td>\n",
       "      <td>23</td>\n",
       "      <td>354</td>\n",
       "      <td>1</td>\n",
       "      <td>2020-06-30</td>\n",
       "      <td>16:59</td>\n",
       "      <td>30</td>\n",
       "      <td>6</td>\n",
       "      <td>2020</td>\n",
       "      <td>in</td>\n",
       "    </tr>\n",
       "    <tr>\n",
       "      <th>3</th>\n",
       "      <td>3</td>\n",
       "      <td>aenean lectus pellentesque eget nunc donec qui...</td>\n",
       "      <td>7.760000e+15</td>\n",
       "      <td>2020-06-30 13:55:00+00:00</td>\n",
       "      <td>301</td>\n",
       "      <td>3</td>\n",
       "      <td>0.009967</td>\n",
       "      <td>0</td>\n",
       "      <td>1</td>\n",
       "      <td>2</td>\n",
       "      <td>...</td>\n",
       "      <td>0</td>\n",
       "      <td>0</td>\n",
       "      <td>0</td>\n",
       "      <td>0</td>\n",
       "      <td>2020-06-30</td>\n",
       "      <td>13:55</td>\n",
       "      <td>30</td>\n",
       "      <td>6</td>\n",
       "      <td>2020</td>\n",
       "      <td>vulputate</td>\n",
       "    </tr>\n",
       "    <tr>\n",
       "      <th>4</th>\n",
       "      <td>4</td>\n",
       "      <td>sed accumsan felis ut at dolor quis odio conse...</td>\n",
       "      <td>6.130000e+15</td>\n",
       "      <td>2020-06-30 12:13:00+00:00</td>\n",
       "      <td>528</td>\n",
       "      <td>0</td>\n",
       "      <td>0.000000</td>\n",
       "      <td>0</td>\n",
       "      <td>0</td>\n",
       "      <td>0</td>\n",
       "      <td>...</td>\n",
       "      <td>0</td>\n",
       "      <td>0</td>\n",
       "      <td>0</td>\n",
       "      <td>0</td>\n",
       "      <td>2020-06-30</td>\n",
       "      <td>12:13</td>\n",
       "      <td>30</td>\n",
       "      <td>6</td>\n",
       "      <td>2020</td>\n",
       "      <td>nonummy</td>\n",
       "    </tr>\n",
       "  </tbody>\n",
       "</table>\n",
       "<p>5 rows × 22 columns</p>\n",
       "</div>"
      ]
     },
     "execution_count": 8,
     "metadata": {},
     "output_type": "execute_result"
    }
   ],
   "execution_count": 8
  },
  {
   "metadata": {
    "ExecuteTime": {
     "end_time": "2025-10-22T16:59:26.579991Z",
     "start_time": "2025-10-22T16:59:26.560175Z"
    }
   },
   "cell_type": "code",
   "source": [
    "# Filter 2: Even number of impressions\n",
    "df_filtered = df_filtered[df_filtered['impressions'] % 2 == 0]"
   ],
   "id": "f097e559305a988",
   "outputs": [],
   "execution_count": 9
  },
  {
   "metadata": {
    "ExecuteTime": {
     "end_time": "2025-10-22T16:59:26.611032Z",
     "start_time": "2025-10-22T16:59:26.594131Z"
    }
   },
   "cell_type": "code",
   "source": "df_filtered.info()",
   "id": "a64026c99bf637b1",
   "outputs": [
    {
     "name": "stdout",
     "output_type": "stream",
     "text": [
      "<class 'pandas.core.frame.DataFrame'>\n",
      "Index: 532 entries, 1 to 1165\n",
      "Data columns (total 22 columns):\n",
      " #   Column               Non-Null Count  Dtype         \n",
      "---  ------               --------------  -----         \n",
      " 0   Unnamed: 0           532 non-null    int64         \n",
      " 1   Tweet                532 non-null    object        \n",
      " 2   id                   532 non-null    float64       \n",
      " 3   time                 532 non-null    object        \n",
      " 4   impressions          532 non-null    int64         \n",
      " 5   engagements          532 non-null    int64         \n",
      " 6   engagement rate      532 non-null    float64       \n",
      " 7   retweets             532 non-null    int64         \n",
      " 8   replies              532 non-null    int64         \n",
      " 9   likes                532 non-null    int64         \n",
      " 10  user profile clicks  532 non-null    int64         \n",
      " 11  url clicks           532 non-null    int64         \n",
      " 12  hashtag clicks       532 non-null    int64         \n",
      " 13  detail expands       532 non-null    int64         \n",
      " 14  media views          532 non-null    int64         \n",
      " 15  media engagements    532 non-null    int64         \n",
      " 16  date                 532 non-null    datetime64[ns]\n",
      " 17  time_extracted       532 non-null    object        \n",
      " 18  Day                  532 non-null    int64         \n",
      " 19  Month                532 non-null    int64         \n",
      " 20  Year                 532 non-null    int64         \n",
      " 21  user_profile         532 non-null    object        \n",
      "dtypes: datetime64[ns](1), float64(2), int64(15), object(4)\n",
      "memory usage: 95.6+ KB\n"
     ]
    }
   ],
   "execution_count": 10
  },
  {
   "metadata": {
    "ExecuteTime": {
     "end_time": "2025-10-22T16:59:26.660863Z",
     "start_time": "2025-10-22T16:59:26.643522Z"
    }
   },
   "cell_type": "code",
   "source": [
    "# Filter 3: Odd day of the month\n",
    "df_filtered = df_filtered[df_filtered['date'].dt.day % 2 != 0]"
   ],
   "id": "c70d9c19324b3832",
   "outputs": [],
   "execution_count": 11
  },
  {
   "metadata": {
    "ExecuteTime": {
     "end_time": "2025-10-22T16:59:26.724275Z",
     "start_time": "2025-10-22T16:59:26.694702Z"
    }
   },
   "cell_type": "code",
   "source": "df_filtered.info()",
   "id": "8cdd1806cf5cc63e",
   "outputs": [
    {
     "name": "stdout",
     "output_type": "stream",
     "text": [
      "<class 'pandas.core.frame.DataFrame'>\n",
      "Index: 290 entries, 35 to 1165\n",
      "Data columns (total 22 columns):\n",
      " #   Column               Non-Null Count  Dtype         \n",
      "---  ------               --------------  -----         \n",
      " 0   Unnamed: 0           290 non-null    int64         \n",
      " 1   Tweet                290 non-null    object        \n",
      " 2   id                   290 non-null    float64       \n",
      " 3   time                 290 non-null    object        \n",
      " 4   impressions          290 non-null    int64         \n",
      " 5   engagements          290 non-null    int64         \n",
      " 6   engagement rate      290 non-null    float64       \n",
      " 7   retweets             290 non-null    int64         \n",
      " 8   replies              290 non-null    int64         \n",
      " 9   likes                290 non-null    int64         \n",
      " 10  user profile clicks  290 non-null    int64         \n",
      " 11  url clicks           290 non-null    int64         \n",
      " 12  hashtag clicks       290 non-null    int64         \n",
      " 13  detail expands       290 non-null    int64         \n",
      " 14  media views          290 non-null    int64         \n",
      " 15  media engagements    290 non-null    int64         \n",
      " 16  date                 290 non-null    datetime64[ns]\n",
      " 17  time_extracted       290 non-null    object        \n",
      " 18  Day                  290 non-null    int64         \n",
      " 19  Month                290 non-null    int64         \n",
      " 20  Year                 290 non-null    int64         \n",
      " 21  user_profile         290 non-null    object        \n",
      "dtypes: datetime64[ns](1), float64(2), int64(15), object(4)\n",
      "memory usage: 52.1+ KB\n"
     ]
    }
   ],
   "execution_count": 12
  },
  {
   "metadata": {
    "ExecuteTime": {
     "end_time": "2025-10-22T16:59:26.773256Z",
     "start_time": "2025-10-22T16:59:26.747872Z"
    }
   },
   "cell_type": "code",
   "source": [
    "# Filter 4: Tweet word count below 30\n",
    "df_filtered = df_filtered[df_filtered['Tweet'].str.split().str.len() < 30]"
   ],
   "id": "2c5e704470a8cd22",
   "outputs": [],
   "execution_count": 13
  },
  {
   "metadata": {
    "ExecuteTime": {
     "end_time": "2025-10-22T16:59:26.834904Z",
     "start_time": "2025-10-22T16:59:26.801557Z"
    }
   },
   "cell_type": "code",
   "source": "df_filtered.info()",
   "id": "e30f63957768ceff",
   "outputs": [
    {
     "name": "stdout",
     "output_type": "stream",
     "text": [
      "<class 'pandas.core.frame.DataFrame'>\n",
      "Index: 192 entries, 35 to 1165\n",
      "Data columns (total 22 columns):\n",
      " #   Column               Non-Null Count  Dtype         \n",
      "---  ------               --------------  -----         \n",
      " 0   Unnamed: 0           192 non-null    int64         \n",
      " 1   Tweet                192 non-null    object        \n",
      " 2   id                   192 non-null    float64       \n",
      " 3   time                 192 non-null    object        \n",
      " 4   impressions          192 non-null    int64         \n",
      " 5   engagements          192 non-null    int64         \n",
      " 6   engagement rate      192 non-null    float64       \n",
      " 7   retweets             192 non-null    int64         \n",
      " 8   replies              192 non-null    int64         \n",
      " 9   likes                192 non-null    int64         \n",
      " 10  user profile clicks  192 non-null    int64         \n",
      " 11  url clicks           192 non-null    int64         \n",
      " 12  hashtag clicks       192 non-null    int64         \n",
      " 13  detail expands       192 non-null    int64         \n",
      " 14  media views          192 non-null    int64         \n",
      " 15  media engagements    192 non-null    int64         \n",
      " 16  date                 192 non-null    datetime64[ns]\n",
      " 17  time_extracted       192 non-null    object        \n",
      " 18  Day                  192 non-null    int64         \n",
      " 19  Month                192 non-null    int64         \n",
      " 20  Year                 192 non-null    int64         \n",
      " 21  user_profile         192 non-null    object        \n",
      "dtypes: datetime64[ns](1), float64(2), int64(15), object(4)\n",
      "memory usage: 34.5+ KB\n"
     ]
    }
   ],
   "execution_count": 14
  },
  {
   "metadata": {
    "ExecuteTime": {
     "end_time": "2025-10-22T16:59:26.882452Z",
     "start_time": "2025-10-22T16:59:26.859146Z"
    }
   },
   "cell_type": "code",
   "source": [
    "# Calculate total engagement\n",
    "df_filtered['total_engagement'] = df_filtered['retweets'] + df_filtered['likes']\n",
    "\n",
    "# Get the top 10 tweets\n",
    "top_10_tweets = df_filtered.sort_values(by='total_engagement', ascending=False).head(10)"
   ],
   "id": "7e3b771e34e3f1b5",
   "outputs": [],
   "execution_count": 15
  },
  {
   "metadata": {
    "ExecuteTime": {
     "end_time": "2025-10-22T16:59:26.913621Z",
     "start_time": "2025-10-22T16:59:26.897186Z"
    }
   },
   "cell_type": "code",
   "source": [
    "# Get the top 10 tweets\n",
    "top_10_tweets = df_filtered.sort_values(by='total_engagement', ascending=False).head(10).copy()\n",
    "\n",
    "# Add a serial number for plotting and table\n",
    "top_10_tweets['serial_number'] = range(1, len(top_10_tweets) + 1)"
   ],
   "id": "544bdbac1cc1f17f",
   "outputs": [],
   "execution_count": 16
  },
  {
   "metadata": {
    "ExecuteTime": {
     "end_time": "2025-10-22T16:59:26.944730Z",
     "start_time": "2025-10-22T16:59:26.927771Z"
    }
   },
   "cell_type": "code",
   "source": [
    "# --- Column Inspection ---\n",
    "print(\"\\n--- Available Columns ---\")\n",
    "print(top_10_tweets.columns.tolist())"
   ],
   "id": "264ace164bc2bf6d",
   "outputs": [
    {
     "name": "stdout",
     "output_type": "stream",
     "text": [
      "\n",
      "--- Available Columns ---\n",
      "['Unnamed: 0', 'Tweet', 'id', 'time', 'impressions', 'engagements', 'engagement rate', 'retweets', 'replies', 'likes', 'user profile clicks', 'url clicks', 'hashtag clicks', 'detail expands', 'media views', 'media engagements', 'date', 'time_extracted', 'Day', 'Month', 'Year', 'user_profile', 'total_engagement', 'serial_number']\n"
     ]
    }
   ],
   "execution_count": 17
  },
  {
   "metadata": {
    "ExecuteTime": {
     "end_time": "2025-10-22T17:01:07.308824Z",
     "start_time": "2025-10-22T17:01:06.869317Z"
    }
   },
   "cell_type": "code",
   "source": [
    "# --- Plot Generation ---\n",
    "plt.figure(figsize=(12, 6))\n",
    "\n",
    "# Assign hue to x and disable legend to mimic original behavior\n",
    "sns.barplot(x='serial_number', y='total_engagement', hue='serial_number',\n",
    "            data=top_10_tweets, palette='viridis', legend=False)\n",
    "\n",
    "# Add labels and title\n",
    "plt.xlabel('Tweet Serial Number')\n",
    "plt.ylabel('Total Engagement (Retweets + Likes)')\n",
    "plt.title('Top 10 Tweets by Engagement (Filtered)')\n",
    "\n",
    "# Add a description of the filters\n",
    "filter_description = \"\"\"\n",
    "Filters Applied:\n",
    "- Tweets posted on weekdays only\n",
    "- Even number of impressions\n",
    "- Odd day of the month for tweet date\n",
    "- Tweet word count below 30\n",
    "- User profile extracted from the last hashtag in the tweet.\n",
    "\"\"\"\n",
    "\n",
    "plt.text(0.95, 0.95, filter_description,\n",
    "         transform=plt.gca().transAxes,\n",
    "         fontsize=10,\n",
    "         verticalalignment='top',\n",
    "         horizontalalignment='right',\n",
    "         bbox=dict(boxstyle='round,pad=0.5', fc='wheat', alpha=0.5))\n",
    "\n",
    "plt.tight_layout()\n",
    "plt.savefig('top_10_tweets_filtered_bar_plot.png')\n",
    "plt.show()\n",
    "\n",
    "# --- Table Generation ---\n",
    "# Check for missing 'user_profile' column\n",
    "expected_cols = ['serial_number', 'Tweet', 'total_engagement', 'user_profile']\n",
    "available_cols = [col for col in expected_cols if col in top_10_tweets.columns]\n",
    "\n",
    "if 'user_profile' not in top_10_tweets.columns and 'Tweet' in top_10_tweets.columns:\n",
    "    # Attempt to extract user_profile from last hashtag\n",
    "    top_10_tweets['user_profile'] = top_10_tweets['Tweet'].apply(\n",
    "        lambda x: x.split('#')[-1].strip() if '#' in x else 'N/A'\n",
    "    )\n",
    "    available_cols = [col for col in expected_cols if col in top_10_tweets.columns]\n",
    "\n",
    "# Truncate tweet text to 80 characters for display\n",
    "table_data = top_10_tweets[available_cols].copy()\n",
    "table_data['Tweet'] = table_data['Tweet'].apply(lambda x: x[:70] + '...' if len(x) > 80 else x)\n",
    "\n",
    "# Display as markdown-style table\n",
    "print(\"\\n--- Top 10 Tweets Details (Filtered & Truncated) ---\")\n",
    "print(table_data.to_markdown(index=False))"
   ],
   "id": "eef1136dd97f2fc6",
   "outputs": [
    {
     "data": {
      "text/plain": [
       "<Figure size 1200x600 with 1 Axes>"
      ],
      "image/png": "[encoded data removed]"
     },
     "metadata": {},
     "output_type": "display_data"
    },
    {
     "name": "stdout",
     "output_type": "stream",
     "text": [
      "\n",
      "--- Top 10 Tweets Details (Filtered & Truncated) ---\n",
      "|   serial_number | Tweet                                                                     |   total_engagement | user_profile   |\n",
      "|----------------:|:--------------------------------------------------------------------------|-------------------:|:---------------|\n",
      "|               1 | justo in hac habitasse platea dictumst etiam faucibus cursus urna ut t... |                 88 | est            |\n",
      "|               2 | enim leo rhoncus sed vestibulum sit amet cursus id turpis integer aliq... |                 32 | vestibulum     |\n",
      "|               3 | pellentesque eget nunc donec quis orci eget orci vehicula condimentum ... |                 28 | in             |\n",
      "|               4 | faucibus cursus urna ut tellus nulla ut erat id mauris vulputate eleme... |                 28 | ut             |\n",
      "|               5 | nulla neque libero convallis eget eleifend luctus ultricies eu nibh qu... |                 25 | erat           |\n",
      "|               6 | integer tincidunt ante vel ipsum praesent blandit lacinia erat vestibu... |                 21 | sem            |\n",
      "|               7 | justo etiam pretium iaculis justo in hac habitasse platea dictumst eti... |                 20 | erat           |\n",
      "|               8 | velit nec nisi vulputate nonummy maecenas tincidunt lacus at velit viv... |                 19 | libero         |\n",
      "|               9 | ut erat curabitur gravida nisi at nibh in hac habitasse platea dictums... |                 19 | malesuada      |\n",
      "|              10 | vestibulum velit id pretium iaculis diam erat fermentum justo nec cond... |                 19 | nisl           |\n"
     ]
    }
   ],
   "execution_count": 21
  },
  {
   "metadata": {
    "ExecuteTime": {
     "end_time": "2025-10-22T17:03:49.934814Z",
     "start_time": "2025-10-22T17:03:49.919383Z"
    }
   },
   "cell_type": "code",
   "source": [
    "# --- Table Generation ---\n",
    "# Check for missing 'user_profile' column\n",
    "expected_cols = ['serial_number', 'Tweet', 'total_engagement', 'user_profile']\n",
    "available_cols = [col for col in expected_cols if col in top_10_tweets.columns]\n",
    "\n",
    "if 'user_profile' not in top_10_tweets.columns and 'Tweet' in top_10_tweets.columns:\n",
    "    # Attempt to extract user_profile from last hashtag\n",
    "    top_10_tweets['user_profile'] = top_10_tweets['Tweet'].apply(\n",
    "        lambda x: x.split('#')[-1].strip() if '#' in x else 'N/A'\n",
    "    )\n",
    "    available_cols = [col for col in expected_cols if col in top_10_tweets.columns]\n",
    "\n",
    "# Truncate tweet text to 80 characters for display\n",
    "table_data = top_10_tweets[available_cols].copy()\n",
    "table_data['Tweet'] = table_data['Tweet'].apply(lambda x: x[:180] + '...' if len(x) > 80 else x)\n",
    "\n",
    "# Display as markdown-style table\n",
    "print(\"\\n--- Top 10 Tweets Details (Filtered & Truncated) ---\")\n",
    "print(table_data.to_markdown(index=False))"
   ],
   "id": "21bf513758884aa9",
   "outputs": [
    {
     "name": "stdout",
     "output_type": "stream",
     "text": [
      "\n",
      "--- Top 10 Tweets Details (Filtered & Truncated) ---\n",
      "|   serial_number | Tweet                                                                                                                                                                                   |   total_engagement | user_profile   |\n",
      "|----------------:|:----------------------------------------------------------------------------------------------------------------------------------------------------------------------------------------|-------------------:|:---------------|\n",
      "|               1 | justo in hac habitasse platea dictumst etiam faucibus cursus urna ut tellus nulla ut erat id mauris vulputate elementum nullam varius #est...                                           |                 88 | est            |\n",
      "|               2 | enim leo rhoncus sed vestibulum sit amet cursus id turpis integer aliquet massa id lobortis convallis tortor risus dapibus augue vel accumsan tellus nisi eu orci mauris #vestibulum... |                 32 | vestibulum     |\n",
      "|               3 | pellentesque eget nunc donec quis orci eget orci vehicula condimentum curabitur in libero ut massa volutpat convallis morbi odio odio elementum eu interdum eu tincidunt in leo maec... |                 28 | in             |\n",
      "|               4 | faucibus cursus urna ut tellus nulla ut erat id mauris vulputate elementum nullam varius nulla facilisi cras non velit #ut...                                                           |                 28 | ut             |\n",
      "|               5 | nulla neque libero convallis eget eleifend luctus ultricies eu nibh quisque id justo sit amet #erat...                                                                                  |                 25 | erat           |\n",
      "|               6 | integer tincidunt ante vel ipsum praesent blandit lacinia erat vestibulum sed magna at nunc commodo placerat praesent blandit nam nulla #sem...                                         |                 21 | sem            |\n",
      "|               7 | justo etiam pretium iaculis justo in hac habitasse platea dictumst etiam faucibus cursus urna ut #erat...                                                                               |                 20 | erat           |\n",
      "|               8 | velit nec nisi vulputate nonummy maecenas tincidunt lacus at velit vivamus vel nulla eget eros elementum pellentesque quisque porta volutpat erat quisque erat eros viverra eget #li... |                 19 | libero         |\n",
      "|               9 | ut erat curabitur gravida nisi at nibh in hac habitasse platea dictumst aliquam augue quam sollicitudin vitae consectetuer #malesuada...                                                |                 19 | malesuada      |\n",
      "|              10 | vestibulum velit id pretium iaculis diam erat fermentum justo nec condimentum neque sapien placerat ante nulla justo aliquam quis turpis eget elit #nisl...                             |                 19 | nisl           |\n"
     ]
    }
   ],
   "execution_count": 34
  },
  {
   "metadata": {},
   "cell_type": "code",
   "outputs": [],
   "execution_count": null,
   "source": "",
   "id": "db23bab8d57d62c9"
  }
 ],
 "metadata": {
  "kernelspec": {
   "display_name": "Python 3",
   "language": "python",
   "name": "python3"
  },
  "language_info": {
   "codemirror_mode": {
    "name": "ipython",
    "version": 2
   },
   "file_extension": ".py",
   "mimetype": "text/x-python",
   "name": "python",
   "nbconvert_exporter": "python",
   "pygments_lexer": "ipython2",
   "version": "2.7.6"
  }
 },
 "nbformat": 4,
 "nbformat_minor": 5
}
