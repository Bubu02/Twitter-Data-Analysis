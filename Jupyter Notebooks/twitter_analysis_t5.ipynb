{
 "cells": [
  {
   "metadata": {},
   "cell_type": "markdown",
   "source": "#### ***5. Develop a visualization that compares the number of replies, retweets, and likes for tweets that have received media engagements greater than the median value. Include a filter for tweets posted in between June and August of 2020 and this graph should work only between 3PM IST to 5 PM IST and 7 AM to 11AM apart from that time we should not show this graph in dashboard itself and tweet date should be odd number and media views should be even number as well as tweet character count should be above 20 and need to remove tweet word which has letter 'S'.***",
   "id": "d770f60e12ebf662"
  },
  {
   "metadata": {
    "ExecuteTime": {
     "end_time": "2025-10-23T14:04:41.835654Z",
     "start_time": "2025-10-23T14:04:41.823206Z"
    }
   },
   "cell_type": "code",
   "source": [
    "import pandas as pd\n",
    "import matplotlib.pyplot as plt\n",
    "import re\n",
    "\n",
    "\"\"\"\n",
    "This script performs the following tasks:\n",
    "1.  Loads the twitter.csv dataset.\n",
    "2.  Filters tweets based on the following criteria:\n",
    "    - Media engagements greater than the median value.\n",
    "    - Tweets posted between June and August of 2020.\n",
    "    - Tweet date (day of the month) is an odd number.\n",
    "    - Media views are an even number.\n",
    "    - Tweet character count is above 20.\n",
    "3.  Removes words containing the letter 's' from the tweet text.\n",
    "4.  Creates a bar plot comparing replies, retweets, and likes for the filtered tweets.\n",
    "5.  Saves the plot to the 'Plots' directory.\n",
    "\"\"\""
   ],
   "id": "922a1b8f8b9e0aed",
   "outputs": [
    {
     "data": {
      "text/plain": [
       "\"\\nThis script performs the following tasks:\\n1.  Loads the twitter.csv dataset.\\n2.  Filters tweets based on the following criteria:\\n    - Media engagements greater than the median value.\\n    - Tweets posted between June and August of 2020.\\n    - Tweet date (day of the month) is an odd number.\\n    - Media views are an even number.\\n    - Tweet character count is above 20.\\n3.  Removes words containing the letter 's' from the tweet text.\\n4.  Creates a bar plot comparing replies, retweets, and likes for the filtered tweets.\\n5.  Saves the plot to the 'Plots' directory.\\n\""
      ]
     },
     "execution_count": 30,
     "metadata": {},
     "output_type": "execute_result"
    }
   ],
   "execution_count": 30
  },
  {
   "metadata": {
    "ExecuteTime": {
     "end_time": "2025-10-23T14:04:41.888332Z",
     "start_time": "2025-10-23T14:04:41.877579Z"
    }
   },
   "cell_type": "code",
   "source": [
    "def remove_words_with_s(text):\n",
    "    \"\"\"\n",
    "    Removes words containing the letter 's' (case-insensitive) from a given text.\n",
    "    \"\"\"\n",
    "    if isinstance(text, str):\n",
    "        # Use regex to find all words containing 's' or 'S' and remove them\n",
    "        return re.sub(r'\\b\\w*[sS]\\w*\\b', '', text).strip()\n",
    "    return text"
   ],
   "id": "aeee3c6a6937acaa",
   "outputs": [],
   "execution_count": 31
  },
  {
   "metadata": {
    "ExecuteTime": {
     "end_time": "2025-10-23T14:04:41.956301Z",
     "start_time": "2025-10-23T14:04:41.911226Z"
    }
   },
   "cell_type": "code",
   "source": [
    "# Load the dataset\n",
    "df = pd.read_csv('../twitter.csv')"
   ],
   "id": "207c452be7640f35",
   "outputs": [],
   "execution_count": 32
  },
  {
   "metadata": {
    "ExecuteTime": {
     "end_time": "2025-10-23T14:04:42.024951Z",
     "start_time": "2025-10-23T14:04:41.979956Z"
    }
   },
   "cell_type": "code",
   "source": "df.head(5)",
   "id": "2a976e37c6c0947d",
   "outputs": [
    {
     "data": {
      "text/plain": [
       "   Unnamed: 0                                              Tweet  \\\n",
       "0           0  id ligula suspendisse ornare consequat lectus ...   \n",
       "1           1  euismod scelerisque quam turpis adipiscing lor...   \n",
       "2           2  leo rhoncus sed vestibulum sit amet cursus id ...   \n",
       "3           3  aenean lectus pellentesque eget nunc donec qui...   \n",
       "4           4  sed accumsan felis ut at dolor quis odio conse...   \n",
       "\n",
       "             id                       time  impressions  engagements  \\\n",
       "0  6.670000e+15  2020-06-30 21:09:00+00:00          365            4   \n",
       "1  8.270000e+15  2020-06-30 17:14:00+00:00          184            2   \n",
       "2  2.810000e+14  2020-06-30 16:59:00+00:00         2644           46   \n",
       "3  7.760000e+15  2020-06-30 13:55:00+00:00          301            3   \n",
       "4  6.130000e+15  2020-06-30 12:13:00+00:00          528            0   \n",
       "\n",
       "   engagement rate  retweets  replies  likes  ...  url clicks  hashtag clicks  \\\n",
       "0         0.010959         0        0      1  ...           0               0   \n",
       "1         0.010870         0        0      2  ...           0               0   \n",
       "2         0.017398         1        1     17  ...           3               0   \n",
       "3         0.009967         0        1      2  ...           0               0   \n",
       "4         0.000000         0        0      0  ...           0               0   \n",
       "\n",
       "   detail expands  media views  media engagements        date time_extracted  \\\n",
       "0               1            0                  0  30-06-2020          21:09   \n",
       "1               0            0                  0  30-06-2020          17:14   \n",
       "2              23          354                  1  30-06-2020          16:59   \n",
       "3               0            0                  0  30-06-2020          13:55   \n",
       "4               0            0                  0  30-06-2020          12:13   \n",
       "\n",
       "  Day  Month  Year  \n",
       "0  30      6  2020  \n",
       "1  30      6  2020  \n",
       "2  30      6  2020  \n",
       "3  30      6  2020  \n",
       "4  30      6  2020  \n",
       "\n",
       "[5 rows x 21 columns]"
      ],
      "text/html": [
       "<div>\n",
       "<style scoped>\n",
       "    .dataframe tbody tr th:only-of-type {\n",
       "        vertical-align: middle;\n",
       "    }\n",
       "\n",
       "    .dataframe tbody tr th {\n",
       "        vertical-align: top;\n",
       "    }\n",
       "\n",
       "    .dataframe thead th {\n",
       "        text-align: right;\n",
       "    }\n",
       "</style>\n",
       "<table border=\"1\" class=\"dataframe\">\n",
       "  <thead>\n",
       "    <tr style=\"text-align: right;\">\n",
       "      <th></th>\n",
       "      <th>Unnamed: 0</th>\n",
       "      <th>Tweet</th>\n",
       "      <th>id</th>\n",
       "      <th>time</th>\n",
       "      <th>impressions</th>\n",
       "      <th>engagements</th>\n",
       "      <th>engagement rate</th>\n",
       "      <th>retweets</th>\n",
       "      <th>replies</th>\n",
       "      <th>likes</th>\n",
       "      <th>...</th>\n",
       "      <th>url clicks</th>\n",
       "      <th>hashtag clicks</th>\n",
       "      <th>detail expands</th>\n",
       "      <th>media views</th>\n",
       "      <th>media engagements</th>\n",
       "      <th>date</th>\n",
       "      <th>time_extracted</th>\n",
       "      <th>Day</th>\n",
       "      <th>Month</th>\n",
       "      <th>Year</th>\n",
       "    </tr>\n",
       "  </thead>\n",
       "  <tbody>\n",
       "    <tr>\n",
       "      <th>0</th>\n",
       "      <td>0</td>\n",
       "      <td>id ligula suspendisse ornare consequat lectus ...</td>\n",
       "      <td>6.670000e+15</td>\n",
       "      <td>2020-06-30 21:09:00+00:00</td>\n",
       "      <td>365</td>\n",
       "      <td>4</td>\n",
       "      <td>0.010959</td>\n",
       "      <td>0</td>\n",
       "      <td>0</td>\n",
       "      <td>1</td>\n",
       "      <td>...</td>\n",
       "      <td>0</td>\n",
       "      <td>0</td>\n",
       "      <td>1</td>\n",
       "      <td>0</td>\n",
       "      <td>0</td>\n",
       "      <td>30-06-2020</td>\n",
       "      <td>21:09</td>\n",
       "      <td>30</td>\n",
       "      <td>6</td>\n",
       "      <td>2020</td>\n",
       "    </tr>\n",
       "    <tr>\n",
       "      <th>1</th>\n",
       "      <td>1</td>\n",
       "      <td>euismod scelerisque quam turpis adipiscing lor...</td>\n",
       "      <td>8.270000e+15</td>\n",
       "      <td>2020-06-30 17:14:00+00:00</td>\n",
       "      <td>184</td>\n",
       "      <td>2</td>\n",
       "      <td>0.010870</td>\n",
       "      <td>0</td>\n",
       "      <td>0</td>\n",
       "      <td>2</td>\n",
       "      <td>...</td>\n",
       "      <td>0</td>\n",
       "      <td>0</td>\n",
       "      <td>0</td>\n",
       "      <td>0</td>\n",
       "      <td>0</td>\n",
       "      <td>30-06-2020</td>\n",
       "      <td>17:14</td>\n",
       "      <td>30</td>\n",
       "      <td>6</td>\n",
       "      <td>2020</td>\n",
       "    </tr>\n",
       "    <tr>\n",
       "      <th>2</th>\n",
       "      <td>2</td>\n",
       "      <td>leo rhoncus sed vestibulum sit amet cursus id ...</td>\n",
       "      <td>2.810000e+14</td>\n",
       "      <td>2020-06-30 16:59:00+00:00</td>\n",
       "      <td>2644</td>\n",
       "      <td>46</td>\n",
       "      <td>0.017398</td>\n",
       "      <td>1</td>\n",
       "      <td>1</td>\n",
       "      <td>17</td>\n",
       "      <td>...</td>\n",
       "      <td>3</td>\n",
       "      <td>0</td>\n",
       "      <td>23</td>\n",
       "      <td>354</td>\n",
       "      <td>1</td>\n",
       "      <td>30-06-2020</td>\n",
       "      <td>16:59</td>\n",
       "      <td>30</td>\n",
       "      <td>6</td>\n",
       "      <td>2020</td>\n",
       "    </tr>\n",
       "    <tr>\n",
       "      <th>3</th>\n",
       "      <td>3</td>\n",
       "      <td>aenean lectus pellentesque eget nunc donec qui...</td>\n",
       "      <td>7.760000e+15</td>\n",
       "      <td>2020-06-30 13:55:00+00:00</td>\n",
       "      <td>301</td>\n",
       "      <td>3</td>\n",
       "      <td>0.009967</td>\n",
       "      <td>0</td>\n",
       "      <td>1</td>\n",
       "      <td>2</td>\n",
       "      <td>...</td>\n",
       "      <td>0</td>\n",
       "      <td>0</td>\n",
       "      <td>0</td>\n",
       "      <td>0</td>\n",
       "      <td>0</td>\n",
       "      <td>30-06-2020</td>\n",
       "      <td>13:55</td>\n",
       "      <td>30</td>\n",
       "      <td>6</td>\n",
       "      <td>2020</td>\n",
       "    </tr>\n",
       "    <tr>\n",
       "      <th>4</th>\n",
       "      <td>4</td>\n",
       "      <td>sed accumsan felis ut at dolor quis odio conse...</td>\n",
       "      <td>6.130000e+15</td>\n",
       "      <td>2020-06-30 12:13:00+00:00</td>\n",
       "      <td>528</td>\n",
       "      <td>0</td>\n",
       "      <td>0.000000</td>\n",
       "      <td>0</td>\n",
       "      <td>0</td>\n",
       "      <td>0</td>\n",
       "      <td>...</td>\n",
       "      <td>0</td>\n",
       "      <td>0</td>\n",
       "      <td>0</td>\n",
       "      <td>0</td>\n",
       "      <td>0</td>\n",
       "      <td>30-06-2020</td>\n",
       "      <td>12:13</td>\n",
       "      <td>30</td>\n",
       "      <td>6</td>\n",
       "      <td>2020</td>\n",
       "    </tr>\n",
       "  </tbody>\n",
       "</table>\n",
       "<p>5 rows × 21 columns</p>\n",
       "</div>"
      ]
     },
     "execution_count": 33,
     "metadata": {},
     "output_type": "execute_result"
    }
   ],
   "execution_count": 33
  },
  {
   "metadata": {
    "ExecuteTime": {
     "end_time": "2025-10-23T14:04:42.092044Z",
     "start_time": "2025-10-23T14:04:42.037439Z"
    }
   },
   "cell_type": "code",
   "source": "df.info()",
   "id": "c85a3d92663da3bf",
   "outputs": [
    {
     "name": "stdout",
     "output_type": "stream",
     "text": [
      "<class 'pandas.core.frame.DataFrame'>\n",
      "RangeIndex: 1166 entries, 0 to 1165\n",
      "Data columns (total 21 columns):\n",
      " #   Column               Non-Null Count  Dtype  \n",
      "---  ------               --------------  -----  \n",
      " 0   Unnamed: 0           1166 non-null   int64  \n",
      " 1   Tweet                1166 non-null   object \n",
      " 2   id                   1166 non-null   float64\n",
      " 3   time                 1166 non-null   object \n",
      " 4   impressions          1166 non-null   int64  \n",
      " 5   engagements          1166 non-null   int64  \n",
      " 6   engagement rate      1166 non-null   float64\n",
      " 7   retweets             1166 non-null   int64  \n",
      " 8   replies              1166 non-null   int64  \n",
      " 9   likes                1166 non-null   int64  \n",
      " 10  user profile clicks  1166 non-null   int64  \n",
      " 11  url clicks           1166 non-null   int64  \n",
      " 12  hashtag clicks       1166 non-null   int64  \n",
      " 13  detail expands       1166 non-null   int64  \n",
      " 14  media views          1166 non-null   int64  \n",
      " 15  media engagements    1166 non-null   int64  \n",
      " 16  date                 1166 non-null   object \n",
      " 17  time_extracted       1166 non-null   object \n",
      " 18  Day                  1166 non-null   int64  \n",
      " 19  Month                1166 non-null   int64  \n",
      " 20  Year                 1166 non-null   int64  \n",
      "dtypes: float64(2), int64(15), object(4)\n",
      "memory usage: 191.4+ KB\n"
     ]
    }
   ],
   "execution_count": 34
  },
  {
   "metadata": {
    "ExecuteTime": {
     "end_time": "2025-10-23T14:04:42.126516Z",
     "start_time": "2025-10-23T14:04:42.104366Z"
    }
   },
   "cell_type": "code",
   "source": [
    "# Convert 'Date' column to datetime objects\n",
    "df['Date'] = pd.to_datetime(df['date'], dayfirst=True)"
   ],
   "id": "fdd71c6902825e1d",
   "outputs": [],
   "execution_count": 35
  },
  {
   "metadata": {
    "ExecuteTime": {
     "end_time": "2025-10-23T14:04:42.150053Z",
     "start_time": "2025-10-23T14:04:42.136801Z"
    }
   },
   "cell_type": "code",
   "source": [
    "# Calculate and show the median value\n",
    "median_media_engagements = df['media engagements'].median()\n",
    "print(\"Median media engagements:\", median_media_engagements)\n",
    "\n",
    "# Filtering condition: media engagements > median\n",
    "df_filtered = df[df['media engagements'] > median_media_engagements]"
   ],
   "id": "7408a1319289abdc",
   "outputs": [
    {
     "name": "stdout",
     "output_type": "stream",
     "text": [
      "Median media engagements: 0.0\n"
     ]
    }
   ],
   "execution_count": 36
  },
  {
   "metadata": {
    "ExecuteTime": {
     "end_time": "2025-10-23T14:04:42.205002Z",
     "start_time": "2025-10-23T14:04:42.172351Z"
    }
   },
   "cell_type": "code",
   "source": "df_filtered.info()",
   "id": "b50cfaf8d3d7f3e",
   "outputs": [
    {
     "name": "stdout",
     "output_type": "stream",
     "text": [
      "<class 'pandas.core.frame.DataFrame'>\n",
      "Index: 342 entries, 2 to 1162\n",
      "Data columns (total 22 columns):\n",
      " #   Column               Non-Null Count  Dtype         \n",
      "---  ------               --------------  -----         \n",
      " 0   Unnamed: 0           342 non-null    int64         \n",
      " 1   Tweet                342 non-null    object        \n",
      " 2   id                   342 non-null    float64       \n",
      " 3   time                 342 non-null    object        \n",
      " 4   impressions          342 non-null    int64         \n",
      " 5   engagements          342 non-null    int64         \n",
      " 6   engagement rate      342 non-null    float64       \n",
      " 7   retweets             342 non-null    int64         \n",
      " 8   replies              342 non-null    int64         \n",
      " 9   likes                342 non-null    int64         \n",
      " 10  user profile clicks  342 non-null    int64         \n",
      " 11  url clicks           342 non-null    int64         \n",
      " 12  hashtag clicks       342 non-null    int64         \n",
      " 13  detail expands       342 non-null    int64         \n",
      " 14  media views          342 non-null    int64         \n",
      " 15  media engagements    342 non-null    int64         \n",
      " 16  date                 342 non-null    object        \n",
      " 17  time_extracted       342 non-null    object        \n",
      " 18  Day                  342 non-null    int64         \n",
      " 19  Month                342 non-null    int64         \n",
      " 20  Year                 342 non-null    int64         \n",
      " 21  Date                 342 non-null    datetime64[ns]\n",
      "dtypes: datetime64[ns](1), float64(2), int64(15), object(4)\n",
      "memory usage: 61.5+ KB\n"
     ]
    }
   ],
   "execution_count": 37
  },
  {
   "metadata": {
    "ExecuteTime": {
     "end_time": "2025-10-23T14:04:42.240518Z",
     "start_time": "2025-10-23T14:04:42.227569Z"
    }
   },
   "cell_type": "code",
   "source": [
    "# 2. Tweets posted between June and August of 2020\n",
    "df_filtered = df_filtered[(df_filtered['Date'].dt.month >= 6) & (df_filtered['Date'].dt.month <= 8) & (df_filtered['Date'].dt.year == 2020)]"
   ],
   "id": "31a76bdd986c804",
   "outputs": [],
   "execution_count": 38
  },
  {
   "metadata": {
    "ExecuteTime": {
     "end_time": "2025-10-23T14:04:42.263928Z",
     "start_time": "2025-10-23T14:04:42.248226Z"
    }
   },
   "cell_type": "code",
   "source": "df_filtered.info()",
   "id": "812eee82ca47d171",
   "outputs": [
    {
     "name": "stdout",
     "output_type": "stream",
     "text": [
      "<class 'pandas.core.frame.DataFrame'>\n",
      "Index: 206 entries, 2 to 751\n",
      "Data columns (total 22 columns):\n",
      " #   Column               Non-Null Count  Dtype         \n",
      "---  ------               --------------  -----         \n",
      " 0   Unnamed: 0           206 non-null    int64         \n",
      " 1   Tweet                206 non-null    object        \n",
      " 2   id                   206 non-null    float64       \n",
      " 3   time                 206 non-null    object        \n",
      " 4   impressions          206 non-null    int64         \n",
      " 5   engagements          206 non-null    int64         \n",
      " 6   engagement rate      206 non-null    float64       \n",
      " 7   retweets             206 non-null    int64         \n",
      " 8   replies              206 non-null    int64         \n",
      " 9   likes                206 non-null    int64         \n",
      " 10  user profile clicks  206 non-null    int64         \n",
      " 11  url clicks           206 non-null    int64         \n",
      " 12  hashtag clicks       206 non-null    int64         \n",
      " 13  detail expands       206 non-null    int64         \n",
      " 14  media views          206 non-null    int64         \n",
      " 15  media engagements    206 non-null    int64         \n",
      " 16  date                 206 non-null    object        \n",
      " 17  time_extracted       206 non-null    object        \n",
      " 18  Day                  206 non-null    int64         \n",
      " 19  Month                206 non-null    int64         \n",
      " 20  Year                 206 non-null    int64         \n",
      " 21  Date                 206 non-null    datetime64[ns]\n",
      "dtypes: datetime64[ns](1), float64(2), int64(15), object(4)\n",
      "memory usage: 37.0+ KB\n"
     ]
    }
   ],
   "execution_count": 39
  },
  {
   "metadata": {
    "ExecuteTime": {
     "end_time": "2025-10-23T14:04:42.296554Z",
     "start_time": "2025-10-23T14:04:42.281191Z"
    }
   },
   "cell_type": "code",
   "source": [
    "# 3. Tweet date is an odd number\n",
    "df_filtered = df_filtered[df_filtered['Date'].dt.day % 2 != 0]"
   ],
   "id": "2ace3962cd5cbb25",
   "outputs": [],
   "execution_count": 40
  },
  {
   "metadata": {
    "ExecuteTime": {
     "end_time": "2025-10-23T14:04:42.323291Z",
     "start_time": "2025-10-23T14:04:42.307190Z"
    }
   },
   "cell_type": "code",
   "source": "df_filtered.info()",
   "id": "e7666e693b1b9c1c",
   "outputs": [
    {
     "name": "stdout",
     "output_type": "stream",
     "text": [
      "<class 'pandas.core.frame.DataFrame'>\n",
      "Index: 109 entries, 38 to 751\n",
      "Data columns (total 22 columns):\n",
      " #   Column               Non-Null Count  Dtype         \n",
      "---  ------               --------------  -----         \n",
      " 0   Unnamed: 0           109 non-null    int64         \n",
      " 1   Tweet                109 non-null    object        \n",
      " 2   id                   109 non-null    float64       \n",
      " 3   time                 109 non-null    object        \n",
      " 4   impressions          109 non-null    int64         \n",
      " 5   engagements          109 non-null    int64         \n",
      " 6   engagement rate      109 non-null    float64       \n",
      " 7   retweets             109 non-null    int64         \n",
      " 8   replies              109 non-null    int64         \n",
      " 9   likes                109 non-null    int64         \n",
      " 10  user profile clicks  109 non-null    int64         \n",
      " 11  url clicks           109 non-null    int64         \n",
      " 12  hashtag clicks       109 non-null    int64         \n",
      " 13  detail expands       109 non-null    int64         \n",
      " 14  media views          109 non-null    int64         \n",
      " 15  media engagements    109 non-null    int64         \n",
      " 16  date                 109 non-null    object        \n",
      " 17  time_extracted       109 non-null    object        \n",
      " 18  Day                  109 non-null    int64         \n",
      " 19  Month                109 non-null    int64         \n",
      " 20  Year                 109 non-null    int64         \n",
      " 21  Date                 109 non-null    datetime64[ns]\n",
      "dtypes: datetime64[ns](1), float64(2), int64(15), object(4)\n",
      "memory usage: 19.6+ KB\n"
     ]
    }
   ],
   "execution_count": 41
  },
  {
   "metadata": {
    "ExecuteTime": {
     "end_time": "2025-10-23T14:04:42.353Z",
     "start_time": "2025-10-23T14:04:42.342845Z"
    }
   },
   "cell_type": "code",
   "source": [
    "# 4. Media views are an even number\n",
    "df_filtered = df_filtered[df_filtered['media views'] % 2 == 0]"
   ],
   "id": "9f1287891d202c09",
   "outputs": [],
   "execution_count": 42
  },
  {
   "metadata": {
    "ExecuteTime": {
     "end_time": "2025-10-23T14:04:42.388042Z",
     "start_time": "2025-10-23T14:04:42.371863Z"
    }
   },
   "cell_type": "code",
   "source": "df_filtered.info()",
   "id": "165bc97cd5783964",
   "outputs": [
    {
     "name": "stdout",
     "output_type": "stream",
     "text": [
      "<class 'pandas.core.frame.DataFrame'>\n",
      "Index: 58 entries, 38 to 740\n",
      "Data columns (total 22 columns):\n",
      " #   Column               Non-Null Count  Dtype         \n",
      "---  ------               --------------  -----         \n",
      " 0   Unnamed: 0           58 non-null     int64         \n",
      " 1   Tweet                58 non-null     object        \n",
      " 2   id                   58 non-null     float64       \n",
      " 3   time                 58 non-null     object        \n",
      " 4   impressions          58 non-null     int64         \n",
      " 5   engagements          58 non-null     int64         \n",
      " 6   engagement rate      58 non-null     float64       \n",
      " 7   retweets             58 non-null     int64         \n",
      " 8   replies              58 non-null     int64         \n",
      " 9   likes                58 non-null     int64         \n",
      " 10  user profile clicks  58 non-null     int64         \n",
      " 11  url clicks           58 non-null     int64         \n",
      " 12  hashtag clicks       58 non-null     int64         \n",
      " 13  detail expands       58 non-null     int64         \n",
      " 14  media views          58 non-null     int64         \n",
      " 15  media engagements    58 non-null     int64         \n",
      " 16  date                 58 non-null     object        \n",
      " 17  time_extracted       58 non-null     object        \n",
      " 18  Day                  58 non-null     int64         \n",
      " 19  Month                58 non-null     int64         \n",
      " 20  Year                 58 non-null     int64         \n",
      " 21  Date                 58 non-null     datetime64[ns]\n",
      "dtypes: datetime64[ns](1), float64(2), int64(15), object(4)\n",
      "memory usage: 10.4+ KB\n"
     ]
    }
   ],
   "execution_count": 43
  },
  {
   "metadata": {
    "ExecuteTime": {
     "end_time": "2025-10-23T14:04:42.426763Z",
     "start_time": "2025-10-23T14:04:42.413910Z"
    }
   },
   "cell_type": "code",
   "source": [
    "# 5. Tweet character count > 20\n",
    "df_filtered = df_filtered[df_filtered['Tweet'].str.len() > 20]"
   ],
   "id": "685c3e64f04817f7",
   "outputs": [],
   "execution_count": 44
  },
  {
   "metadata": {
    "ExecuteTime": {
     "end_time": "2025-10-23T14:04:42.470720Z",
     "start_time": "2025-10-23T14:04:42.440294Z"
    }
   },
   "cell_type": "code",
   "source": "df_filtered.info()",
   "id": "768899748c2a3aa",
   "outputs": [
    {
     "name": "stdout",
     "output_type": "stream",
     "text": [
      "<class 'pandas.core.frame.DataFrame'>\n",
      "Index: 58 entries, 38 to 740\n",
      "Data columns (total 22 columns):\n",
      " #   Column               Non-Null Count  Dtype         \n",
      "---  ------               --------------  -----         \n",
      " 0   Unnamed: 0           58 non-null     int64         \n",
      " 1   Tweet                58 non-null     object        \n",
      " 2   id                   58 non-null     float64       \n",
      " 3   time                 58 non-null     object        \n",
      " 4   impressions          58 non-null     int64         \n",
      " 5   engagements          58 non-null     int64         \n",
      " 6   engagement rate      58 non-null     float64       \n",
      " 7   retweets             58 non-null     int64         \n",
      " 8   replies              58 non-null     int64         \n",
      " 9   likes                58 non-null     int64         \n",
      " 10  user profile clicks  58 non-null     int64         \n",
      " 11  url clicks           58 non-null     int64         \n",
      " 12  hashtag clicks       58 non-null     int64         \n",
      " 13  detail expands       58 non-null     int64         \n",
      " 14  media views          58 non-null     int64         \n",
      " 15  media engagements    58 non-null     int64         \n",
      " 16  date                 58 non-null     object        \n",
      " 17  time_extracted       58 non-null     object        \n",
      " 18  Day                  58 non-null     int64         \n",
      " 19  Month                58 non-null     int64         \n",
      " 20  Year                 58 non-null     int64         \n",
      " 21  Date                 58 non-null     datetime64[ns]\n",
      "dtypes: datetime64[ns](1), float64(2), int64(15), object(4)\n",
      "memory usage: 10.4+ KB\n"
     ]
    }
   ],
   "execution_count": 45
  },
  {
   "metadata": {
    "ExecuteTime": {
     "end_time": "2025-10-23T14:04:42.505558Z",
     "start_time": "2025-10-23T14:04:42.494908Z"
    }
   },
   "cell_type": "code",
   "source": [
    "# Remove words with 's' from the 'Tweet' column\n",
    "df_filtered['Tweet'] = df_filtered['Tweet'].apply(remove_words_with_s)\n",
    "\n",
    "# Calculate the sum of replies, retweets, and likes for the filtered tweets\n",
    "total_replies = df_filtered['replies'].sum()\n",
    "total_retweets = df_filtered['retweets'].sum()\n",
    "total_likes = df_filtered['likes'].sum()"
   ],
   "id": "5b6c29b06785df01",
   "outputs": [],
   "execution_count": 46
  },
  {
   "metadata": {
    "ExecuteTime": {
     "end_time": "2025-10-23T14:04:42.554262Z",
     "start_time": "2025-10-23T14:04:42.528889Z"
    }
   },
   "cell_type": "code",
   "source": "df_filtered.info()",
   "id": "ac00ecb1f67be86f",
   "outputs": [
    {
     "name": "stdout",
     "output_type": "stream",
     "text": [
      "<class 'pandas.core.frame.DataFrame'>\n",
      "Index: 58 entries, 38 to 740\n",
      "Data columns (total 22 columns):\n",
      " #   Column               Non-Null Count  Dtype         \n",
      "---  ------               --------------  -----         \n",
      " 0   Unnamed: 0           58 non-null     int64         \n",
      " 1   Tweet                58 non-null     object        \n",
      " 2   id                   58 non-null     float64       \n",
      " 3   time                 58 non-null     object        \n",
      " 4   impressions          58 non-null     int64         \n",
      " 5   engagements          58 non-null     int64         \n",
      " 6   engagement rate      58 non-null     float64       \n",
      " 7   retweets             58 non-null     int64         \n",
      " 8   replies              58 non-null     int64         \n",
      " 9   likes                58 non-null     int64         \n",
      " 10  user profile clicks  58 non-null     int64         \n",
      " 11  url clicks           58 non-null     int64         \n",
      " 12  hashtag clicks       58 non-null     int64         \n",
      " 13  detail expands       58 non-null     int64         \n",
      " 14  media views          58 non-null     int64         \n",
      " 15  media engagements    58 non-null     int64         \n",
      " 16  date                 58 non-null     object        \n",
      " 17  time_extracted       58 non-null     object        \n",
      " 18  Day                  58 non-null     int64         \n",
      " 19  Month                58 non-null     int64         \n",
      " 20  Year                 58 non-null     int64         \n",
      " 21  Date                 58 non-null     datetime64[ns]\n",
      "dtypes: datetime64[ns](1), float64(2), int64(15), object(4)\n",
      "memory usage: 10.4+ KB\n"
     ]
    }
   ],
   "execution_count": 47
  },
  {
   "cell_type": "code",
   "id": "initial_id",
   "metadata": {
    "collapsed": true,
    "ExecuteTime": {
     "end_time": "2025-10-23T14:04:42.829877Z",
     "start_time": "2025-10-23T14:04:42.563701Z"
    }
   },
   "source": [
    "# Data for plotting\n",
    "engagement_metrics = {\n",
    "    'Replies': total_replies,\n",
    "    'Retweets': total_retweets,\n",
    "    'Likes': total_likes\n",
    "}\n",
    "metrics = list(engagement_metrics.keys())\n",
    "values = list(engagement_metrics.values())\n",
    "\n",
    "# Create the bar plot\n",
    "plt.figure(figsize=(10, 6))\n",
    "bars = plt.bar(metrics, values, color=['skyblue', 'lightgreen', 'salmon'])\n",
    "\n",
    "# Add data labels on top of the bars\n",
    "for bar in bars:\n",
    "    yval = bar.get_height()\n",
    "    plt.text(bar.get_x() + bar.get_width()/2.0, yval, int(yval), va='bottom') # va: vertical alignment\n",
    "\n",
    "plt.title('Comparison of Replies, Retweets, and Likes for Filtered Tweets')\n",
    "plt.ylabel('Total Count')\n",
    "\n",
    "# Description of filters applied\n",
    "filter_desc = (\n",
    "    f\"Filters Applied:\\n\"\n",
    "    f\"- Media engagements > {median_media_engagements:.2f} (Median)\\n\"\n",
    "    f\"- Tweets from June to August 2020\\n\"\n",
    "    f\"- Odd day of the month\\n\"\n",
    "    f\"- Even number of media views\\n\"\n",
    "    f\"- Tweet character count > 20\\n\"\n",
    "    f\"- Words with 's' removed from tweet text\"\n",
    ")\n",
    "\n",
    "plt.text(0.05, 0.95, filter_desc, transform=plt.gca().transAxes, fontsize=10,\n",
    "         verticalalignment='top', bbox=dict(boxstyle='round,pad=0.5', fc='wheat', alpha=0.5))\n",
    "\n",
    "plt.tight_layout()\n",
    "\n",
    "# Save the plot\n",
    "plt.savefig('../Plots/task_05_filtered_tweet_analysis.png')\n",
    "\n",
    "# Show the plot\n",
    "plt.show()"
   ],
   "outputs": [
    {
     "data": {
      "text/plain": [
       "<Figure size 1000x600 with 1 Axes>"
      ],
      "image/png": "[encoded data removed]"
     },
     "metadata": {},
     "output_type": "display_data"
    }
   ],
   "execution_count": 48
  },
  {
   "metadata": {
    "ExecuteTime": {
     "end_time": "2025-10-23T14:04:42.853135Z",
     "start_time": "2025-10-23T14:04:42.837212Z"
    }
   },
   "cell_type": "code",
   "source": "",
   "id": "26d8b49836f28b0a",
   "outputs": [],
   "execution_count": null
  }
 ],
 "metadata": {
  "kernelspec": {
   "display_name": "Python 3",
   "language": "python",
   "name": "python3"
  },
  "language_info": {
   "codemirror_mode": {
    "name": "ipython",
    "version": 2
   },
   "file_extension": ".py",
   "mimetype": "text/x-python",
   "name": "python",
   "nbconvert_exporter": "python",
   "pygments_lexer": "ipython2",
   "version": "2.7.6"
  }
 },
 "nbformat": 4,
 "nbformat_minor": 5
}
