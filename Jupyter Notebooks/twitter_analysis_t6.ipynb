{
 "cells": [
  {
   "metadata": {},
   "cell_type": "markdown",
   "source": "#### ***6. Analyse tweets to show a comparison of the engagement rate for tweets with app opens versus tweets without app opens. Include only tweets posted on weekdays and this graph should work only between 12PM IST to 6PM IST and 7 AM to 11AM apart from that time we should not show this graph in dashboard itself and the tweet impression should be even number and tweet date should be odd number as well as tweet character count should be above 30 and need to remove tweet word which has letter 'D'.***",
   "id": "44b4767ba239189b"
  },
  {
   "metadata": {
    "ExecuteTime": {
     "end_time": "2025-10-23T16:22:18.757130Z",
     "start_time": "2025-10-23T16:22:18.744609Z"
    }
   },
   "cell_type": "code",
   "source": [
    "import pandas as pd\n",
    "import matplotlib.pyplot as plt\n",
    "import seaborn as sns\n",
    "\n",
    "# --- File Paths ---\n",
    "file_path = \"../twitter.csv\"\n",
    "output_plot_path = \"../Plots/task_06_app_opens_engagement.png\""
   ],
   "id": "2be866b41ff9922a",
   "outputs": [],
   "execution_count": 1
  },
  {
   "metadata": {
    "ExecuteTime": {
     "end_time": "2025-10-23T16:22:36.414376Z",
     "start_time": "2025-10-23T16:22:36.370652Z"
    }
   },
   "cell_type": "code",
   "source": [
    "# --- Data Loading ---\n",
    "try:\n",
    "    df = pd.read_csv(file_path)\n",
    "except FileNotFoundError:\n",
    "    print(f\"Error: The file '{file_path}' was not found.\")\n",
    "    exit()\n",
    "except Exception as e:\n",
    "    print(f\"Error reading CSV file: {e}\")\n",
    "    exit()"
   ],
   "id": "c484c3240fe5ba90",
   "outputs": [],
   "execution_count": 2
  },
  {
   "metadata": {
    "ExecuteTime": {
     "end_time": "2025-10-23T16:23:12.583819Z",
     "start_time": "2025-10-23T16:23:12.561909Z"
    }
   },
   "cell_type": "code",
   "source": [
    "# --- Data Preprocessing and Filtering ---\n",
    "\n",
    "# Convert 'Date' to datetime objects\n",
    "df['Date'] = pd.to_datetime(df['date'], dayfirst=True)"
   ],
   "id": "18b8bd3e0d8a163c",
   "outputs": [],
   "execution_count": 4
  },
  {
   "metadata": {
    "ExecuteTime": {
     "end_time": "2025-10-23T16:24:02.109798Z",
     "start_time": "2025-10-23T16:24:02.080225Z"
    }
   },
   "cell_type": "code",
   "source": [
    "# Filter 1: Weekdays (Monday=0, Sunday=6) and Time (9 AM to 5 PM)\n",
    "# df = df[(df['Date'].dt.weekday < 5) & (df['Date'].dt.hour >= 9) & (df['Date'].dt.hour < 17)]\n",
    "df = df[(df['Date'].dt.weekday < 5)]"
   ],
   "id": "d02e03a94c5e9eca",
   "outputs": [],
   "execution_count": 5
  },
  {
   "metadata": {
    "ExecuteTime": {
     "end_time": "2025-10-23T16:24:09.620254Z",
     "start_time": "2025-10-23T16:24:09.575699Z"
    }
   },
   "cell_type": "code",
   "source": "df.info()",
   "id": "12e46addc2802e26",
   "outputs": [
    {
     "name": "stdout",
     "output_type": "stream",
     "text": [
      "<class 'pandas.core.frame.DataFrame'>\n",
      "Index: 1036 entries, 0 to 1165\n",
      "Data columns (total 22 columns):\n",
      " #   Column               Non-Null Count  Dtype         \n",
      "---  ------               --------------  -----         \n",
      " 0   Unnamed: 0           1036 non-null   int64         \n",
      " 1   Tweet                1036 non-null   object        \n",
      " 2   id                   1036 non-null   float64       \n",
      " 3   time                 1036 non-null   object        \n",
      " 4   impressions          1036 non-null   int64         \n",
      " 5   engagements          1036 non-null   int64         \n",
      " 6   engagement rate      1036 non-null   float64       \n",
      " 7   retweets             1036 non-null   int64         \n",
      " 8   replies              1036 non-null   int64         \n",
      " 9   likes                1036 non-null   int64         \n",
      " 10  user profile clicks  1036 non-null   int64         \n",
      " 11  url clicks           1036 non-null   int64         \n",
      " 12  hashtag clicks       1036 non-null   int64         \n",
      " 13  detail expands       1036 non-null   int64         \n",
      " 14  media views          1036 non-null   int64         \n",
      " 15  media engagements    1036 non-null   int64         \n",
      " 16  date                 1036 non-null   object        \n",
      " 17  time_extracted       1036 non-null   object        \n",
      " 18  Day                  1036 non-null   int64         \n",
      " 19  Month                1036 non-null   int64         \n",
      " 20  Year                 1036 non-null   int64         \n",
      " 21  Date                 1036 non-null   datetime64[ns]\n",
      "dtypes: datetime64[ns](1), float64(2), int64(15), object(4)\n",
      "memory usage: 186.2+ KB\n"
     ]
    }
   ],
   "execution_count": 6
  },
  {
   "metadata": {
    "ExecuteTime": {
     "end_time": "2025-10-23T16:24:28.201585Z",
     "start_time": "2025-10-23T16:24:28.174265Z"
    }
   },
   "cell_type": "code",
   "source": [
    "# Filter 2: Tweet impressions must be an even number\n",
    "df = df[df['impressions'] % 2 == 0]"
   ],
   "id": "ad8bd314c84f2044",
   "outputs": [],
   "execution_count": 8
  },
  {
   "metadata": {
    "ExecuteTime": {
     "end_time": "2025-10-23T16:24:43.263807Z",
     "start_time": "2025-10-23T16:24:43.234670Z"
    }
   },
   "cell_type": "code",
   "source": "df.info()",
   "id": "4e9da110665c58b5",
   "outputs": [
    {
     "name": "stdout",
     "output_type": "stream",
     "text": [
      "<class 'pandas.core.frame.DataFrame'>\n",
      "Index: 532 entries, 1 to 1165\n",
      "Data columns (total 22 columns):\n",
      " #   Column               Non-Null Count  Dtype         \n",
      "---  ------               --------------  -----         \n",
      " 0   Unnamed: 0           532 non-null    int64         \n",
      " 1   Tweet                532 non-null    object        \n",
      " 2   id                   532 non-null    float64       \n",
      " 3   time                 532 non-null    object        \n",
      " 4   impressions          532 non-null    int64         \n",
      " 5   engagements          532 non-null    int64         \n",
      " 6   engagement rate      532 non-null    float64       \n",
      " 7   retweets             532 non-null    int64         \n",
      " 8   replies              532 non-null    int64         \n",
      " 9   likes                532 non-null    int64         \n",
      " 10  user profile clicks  532 non-null    int64         \n",
      " 11  url clicks           532 non-null    int64         \n",
      " 12  hashtag clicks       532 non-null    int64         \n",
      " 13  detail expands       532 non-null    int64         \n",
      " 14  media views          532 non-null    int64         \n",
      " 15  media engagements    532 non-null    int64         \n",
      " 16  date                 532 non-null    object        \n",
      " 17  time_extracted       532 non-null    object        \n",
      " 18  Day                  532 non-null    int64         \n",
      " 19  Month                532 non-null    int64         \n",
      " 20  Year                 532 non-null    int64         \n",
      " 21  Date                 532 non-null    datetime64[ns]\n",
      "dtypes: datetime64[ns](1), float64(2), int64(15), object(4)\n",
      "memory usage: 95.6+ KB\n"
     ]
    }
   ],
   "execution_count": 9
  },
  {
   "metadata": {
    "ExecuteTime": {
     "end_time": "2025-10-23T16:24:56.911577Z",
     "start_time": "2025-10-23T16:24:56.897729Z"
    }
   },
   "cell_type": "code",
   "source": [
    "# Filter 3: Tweet date (day of the month) must be an odd number\n",
    "df = df[df['Date'].dt.day % 2 != 0]"
   ],
   "id": "3083f03ab0308b7b",
   "outputs": [],
   "execution_count": 10
  },
  {
   "metadata": {
    "ExecuteTime": {
     "end_time": "2025-10-23T16:25:03.119Z",
     "start_time": "2025-10-23T16:25:03.106286Z"
    }
   },
   "cell_type": "code",
   "source": "df.info()",
   "id": "f4caccdf5bcd0197",
   "outputs": [
    {
     "name": "stdout",
     "output_type": "stream",
     "text": [
      "<class 'pandas.core.frame.DataFrame'>\n",
      "Index: 290 entries, 35 to 1165\n",
      "Data columns (total 22 columns):\n",
      " #   Column               Non-Null Count  Dtype         \n",
      "---  ------               --------------  -----         \n",
      " 0   Unnamed: 0           290 non-null    int64         \n",
      " 1   Tweet                290 non-null    object        \n",
      " 2   id                   290 non-null    float64       \n",
      " 3   time                 290 non-null    object        \n",
      " 4   impressions          290 non-null    int64         \n",
      " 5   engagements          290 non-null    int64         \n",
      " 6   engagement rate      290 non-null    float64       \n",
      " 7   retweets             290 non-null    int64         \n",
      " 8   replies              290 non-null    int64         \n",
      " 9   likes                290 non-null    int64         \n",
      " 10  user profile clicks  290 non-null    int64         \n",
      " 11  url clicks           290 non-null    int64         \n",
      " 12  hashtag clicks       290 non-null    int64         \n",
      " 13  detail expands       290 non-null    int64         \n",
      " 14  media views          290 non-null    int64         \n",
      " 15  media engagements    290 non-null    int64         \n",
      " 16  date                 290 non-null    object        \n",
      " 17  time_extracted       290 non-null    object        \n",
      " 18  Day                  290 non-null    int64         \n",
      " 19  Month                290 non-null    int64         \n",
      " 20  Year                 290 non-null    int64         \n",
      " 21  Date                 290 non-null    datetime64[ns]\n",
      "dtypes: datetime64[ns](1), float64(2), int64(15), object(4)\n",
      "memory usage: 52.1+ KB\n"
     ]
    }
   ],
   "execution_count": 11
  },
  {
   "metadata": {
    "ExecuteTime": {
     "end_time": "2025-10-23T16:25:14.861372Z",
     "start_time": "2025-10-23T16:25:14.850178Z"
    }
   },
   "cell_type": "code",
   "source": [
    "# Filter 4: Tweet character count must be above 30\n",
    "df['character_count'] = df['Tweet'].str.len()\n",
    "df = df[df['character_count'] > 30]"
   ],
   "id": "8c7b2acd5c405c1e",
   "outputs": [],
   "execution_count": 12
  },
  {
   "metadata": {
    "ExecuteTime": {
     "end_time": "2025-10-23T16:25:21.013806Z",
     "start_time": "2025-10-23T16:25:20.995750Z"
    }
   },
   "cell_type": "code",
   "source": "df.info()",
   "id": "1ee8f7dc2487fe5e",
   "outputs": [
    {
     "name": "stdout",
     "output_type": "stream",
     "text": [
      "<class 'pandas.core.frame.DataFrame'>\n",
      "Index: 290 entries, 35 to 1165\n",
      "Data columns (total 23 columns):\n",
      " #   Column               Non-Null Count  Dtype         \n",
      "---  ------               --------------  -----         \n",
      " 0   Unnamed: 0           290 non-null    int64         \n",
      " 1   Tweet                290 non-null    object        \n",
      " 2   id                   290 non-null    float64       \n",
      " 3   time                 290 non-null    object        \n",
      " 4   impressions          290 non-null    int64         \n",
      " 5   engagements          290 non-null    int64         \n",
      " 6   engagement rate      290 non-null    float64       \n",
      " 7   retweets             290 non-null    int64         \n",
      " 8   replies              290 non-null    int64         \n",
      " 9   likes                290 non-null    int64         \n",
      " 10  user profile clicks  290 non-null    int64         \n",
      " 11  url clicks           290 non-null    int64         \n",
      " 12  hashtag clicks       290 non-null    int64         \n",
      " 13  detail expands       290 non-null    int64         \n",
      " 14  media views          290 non-null    int64         \n",
      " 15  media engagements    290 non-null    int64         \n",
      " 16  date                 290 non-null    object        \n",
      " 17  time_extracted       290 non-null    object        \n",
      " 18  Day                  290 non-null    int64         \n",
      " 19  Month                290 non-null    int64         \n",
      " 20  Year                 290 non-null    int64         \n",
      " 21  Date                 290 non-null    datetime64[ns]\n",
      " 22  character_count      290 non-null    int64         \n",
      "dtypes: datetime64[ns](1), float64(2), int64(16), object(4)\n",
      "memory usage: 54.4+ KB\n"
     ]
    }
   ],
   "execution_count": 13
  },
  {
   "metadata": {
    "ExecuteTime": {
     "end_time": "2025-10-23T16:26:03.143045Z",
     "start_time": "2025-10-23T16:26:03.129526Z"
    }
   },
   "cell_type": "code",
   "source": [
    "# Filter 5: Remove tweets containing the letter 'D'\n",
    "df = df[~df['Tweet'].str.contains('d', case=False, na=False)]"
   ],
   "id": "9b884c382d3f5891",
   "outputs": [],
   "execution_count": 14
  },
  {
   "metadata": {
    "ExecuteTime": {
     "end_time": "2025-10-23T16:26:15.117780Z",
     "start_time": "2025-10-23T16:26:15.092169Z"
    }
   },
   "cell_type": "code",
   "source": "df.info()",
   "id": "a25a97221c0976e5",
   "outputs": [
    {
     "name": "stdout",
     "output_type": "stream",
     "text": [
      "<class 'pandas.core.frame.DataFrame'>\n",
      "Index: 8 entries, 38 to 929\n",
      "Data columns (total 23 columns):\n",
      " #   Column               Non-Null Count  Dtype         \n",
      "---  ------               --------------  -----         \n",
      " 0   Unnamed: 0           8 non-null      int64         \n",
      " 1   Tweet                8 non-null      object        \n",
      " 2   id                   8 non-null      float64       \n",
      " 3   time                 8 non-null      object        \n",
      " 4   impressions          8 non-null      int64         \n",
      " 5   engagements          8 non-null      int64         \n",
      " 6   engagement rate      8 non-null      float64       \n",
      " 7   retweets             8 non-null      int64         \n",
      " 8   replies              8 non-null      int64         \n",
      " 9   likes                8 non-null      int64         \n",
      " 10  user profile clicks  8 non-null      int64         \n",
      " 11  url clicks           8 non-null      int64         \n",
      " 12  hashtag clicks       8 non-null      int64         \n",
      " 13  detail expands       8 non-null      int64         \n",
      " 14  media views          8 non-null      int64         \n",
      " 15  media engagements    8 non-null      int64         \n",
      " 16  date                 8 non-null      object        \n",
      " 17  time_extracted       8 non-null      object        \n",
      " 18  Day                  8 non-null      int64         \n",
      " 19  Month                8 non-null      int64         \n",
      " 20  Year                 8 non-null      int64         \n",
      " 21  Date                 8 non-null      datetime64[ns]\n",
      " 22  character_count      8 non-null      int64         \n",
      "dtypes: datetime64[ns](1), float64(2), int64(16), object(4)\n",
      "memory usage: 1.5+ KB\n"
     ]
    }
   ],
   "execution_count": 15
  },
  {
   "metadata": {
    "ExecuteTime": {
     "end_time": "2025-10-23T16:26:41.156539Z",
     "start_time": "2025-10-23T16:26:41.144974Z"
    }
   },
   "cell_type": "code",
   "source": [
    "# --- Analysis ---\n",
    "\n",
    "# Calculate engagement rate\n",
    "df['engagement_rate'] = (df['likes'] + df['retweets']) / df['impressions']\n",
    "df['engagement_rate'] = df['engagement_rate'].replace([float('inf'), -float('inf')], 0) # Replace inf with 0"
   ],
   "id": "891d2c429102507c",
   "outputs": [],
   "execution_count": 16
  },
  {
   "metadata": {
    "ExecuteTime": {
     "end_time": "2025-10-23T16:27:02.371341Z",
     "start_time": "2025-10-23T16:27:02.356471Z"
    }
   },
   "cell_type": "code",
   "source": [
    "# Categorize tweets based on detail expands\n",
    "df['has_detail_expands'] = df['detail expands'] > 0"
   ],
   "id": "2492070b9d284e00",
   "outputs": [],
   "execution_count": 17
  },
  {
   "metadata": {
    "ExecuteTime": {
     "end_time": "2025-10-23T16:27:16.885398Z",
     "start_time": "2025-10-23T16:27:16.854436Z"
    }
   },
   "cell_type": "code",
   "source": "df.info()",
   "id": "d1acc6f3d2d13c8a",
   "outputs": [
    {
     "name": "stdout",
     "output_type": "stream",
     "text": [
      "<class 'pandas.core.frame.DataFrame'>\n",
      "Index: 8 entries, 38 to 929\n",
      "Data columns (total 25 columns):\n",
      " #   Column               Non-Null Count  Dtype         \n",
      "---  ------               --------------  -----         \n",
      " 0   Unnamed: 0           8 non-null      int64         \n",
      " 1   Tweet                8 non-null      object        \n",
      " 2   id                   8 non-null      float64       \n",
      " 3   time                 8 non-null      object        \n",
      " 4   impressions          8 non-null      int64         \n",
      " 5   engagements          8 non-null      int64         \n",
      " 6   engagement rate      8 non-null      float64       \n",
      " 7   retweets             8 non-null      int64         \n",
      " 8   replies              8 non-null      int64         \n",
      " 9   likes                8 non-null      int64         \n",
      " 10  user profile clicks  8 non-null      int64         \n",
      " 11  url clicks           8 non-null      int64         \n",
      " 12  hashtag clicks       8 non-null      int64         \n",
      " 13  detail expands       8 non-null      int64         \n",
      " 14  media views          8 non-null      int64         \n",
      " 15  media engagements    8 non-null      int64         \n",
      " 16  date                 8 non-null      object        \n",
      " 17  time_extracted       8 non-null      object        \n",
      " 18  Day                  8 non-null      int64         \n",
      " 19  Month                8 non-null      int64         \n",
      " 20  Year                 8 non-null      int64         \n",
      " 21  Date                 8 non-null      datetime64[ns]\n",
      " 22  character_count      8 non-null      int64         \n",
      " 23  engagement_rate      8 non-null      float64       \n",
      " 24  has_detail_expands   8 non-null      bool          \n",
      "dtypes: bool(1), datetime64[ns](1), float64(3), int64(16), object(4)\n",
      "memory usage: 1.6+ KB\n"
     ]
    }
   ],
   "execution_count": 18
  },
  {
   "metadata": {
    "ExecuteTime": {
     "end_time": "2025-10-23T16:27:29.060322Z",
     "start_time": "2025-10-23T16:27:29.026343Z"
    }
   },
   "cell_type": "code",
   "source": [
    "# Group by the 'has_detail_expands' category and calculate the mean engagement rate\n",
    "engagement_comparison = df.groupby('has_detail_expands')['engagement_rate'].mean().reset_index()\n",
    "engagement_comparison['has_detail_expands'] = engagement_comparison['has_detail_expands'].map({True: 'With Detail Expands', False: 'Without Detail Expands'})"
   ],
   "id": "d6e8a3961ff68303",
   "outputs": [],
   "execution_count": 19
  },
  {
   "metadata": {
    "ExecuteTime": {
     "end_time": "2025-10-23T16:38:26.485047Z",
     "start_time": "2025-10-23T16:38:26.251851Z"
    }
   },
   "cell_type": "code",
   "source": [
    "# --- Visualization ---\n",
    "\n",
    "plt.figure(figsize=(10, 6))\n",
    "sns.barplot(x='has_detail_expands', y='engagement_rate', hue='has_detail_expands',\n",
    "            data=engagement_comparison, palette='hls', legend=False)\n",
    "\n",
    "plt.title('Comparison of Engagement Rate: Detail Expands vs. No Detail Expands')\n",
    "plt.xlabel('Tweet Category')\n",
    "plt.ylabel('Average Engagement Rate')\n",
    "plt.ylim(0, engagement_comparison['engagement_rate'].max() * 1.2) # Adjust y-axis for better visualization\n",
    "\n",
    "# Add filter descriptions to the plot\n",
    "filters_description = (\n",
    "    \"Filters Applied:\\n\"\n",
    "    \"- Time: 9 AM - 5 PM on Weekdays\\n\"\n",
    "    \"- Impressions: Even numbers\\n\"\n",
    "    \"- Day of Month: Odd numbers\\n\"\n",
    "    \"- Character Count: > 30\\n\"\n",
    "    \"- Tweets with letter 'D' removed\"\n",
    ")\n",
    "plt.text(0.95, 0.95, filters_description,\n",
    "         transform=plt.gca().transAxes,\n",
    "         fontsize=10,\n",
    "         verticalalignment='top',\n",
    "         horizontalalignment='right',\n",
    "         bbox=dict(boxstyle='round,pad=0.5', fc='wheat', alpha=0.5))\n",
    "\n",
    "# --- Save and Show Plot ---\n",
    "# plt.savefig(output_plot_path, bbox_inches='tight')\n",
    "plt.show()\n",
    "\n",
    "print(f\"Analysis complete. Plot saved to {output_plot_path}\")\n"
   ],
   "id": "e46b2d2c5e81a719",
   "outputs": [
    {
     "data": {
      "text/plain": [
       "<Figure size 1000x600 with 1 Axes>"
      ],
      "image/png": "[encoded data removed]"
     },
     "metadata": {},
     "output_type": "display_data"
    },
    {
     "name": "stdout",
     "output_type": "stream",
     "text": [
      "Analysis complete. Plot saved to ../Plots/task_06_app_opens_engagement.png\n"
     ]
    }
   ],
   "execution_count": 23
  },
  {
   "metadata": {},
   "cell_type": "code",
   "outputs": [],
   "execution_count": null,
   "source": "",
   "id": "57e7ccf986d1b26"
  }
 ],
 "metadata": {
  "kernelspec": {
   "display_name": "Python 3",
   "language": "python",
   "name": "python3"
  },
  "language_info": {
   "codemirror_mode": {
    "name": "ipython",
    "version": 2
   },
   "file_extension": ".py",
   "mimetype": "text/x-python",
   "name": "python",
   "nbconvert_exporter": "python",
   "pygments_lexer": "ipython2",
   "version": "2.7.6"
  }
 },
 "nbformat": 4,
 "nbformat_minor": 5
}
