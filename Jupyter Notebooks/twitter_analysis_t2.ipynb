{
 "cells": [
  {
   "metadata": {},
   "cell_type": "markdown",
   "source": "#### ***2. Create a clustered bar chart that breaks down the sum of URL clicks, user profile clicks, and hashtag clicks by tweet category (e.g., tweets with media, tweets with links, tweets with hashtags). Only include tweets that have at least one of these interaction types and this graph should work only between 3PM IST to 5 PM IST apart from that time we should not show this graph in dashboard itself and the tweet date should be even number as well as tweet letter count be above 40.***",
   "id": "b9016d749030f373"
  },
  {
   "cell_type": "code",
   "id": "initial_id",
   "metadata": {
    "collapsed": true,
    "ExecuteTime": {
     "end_time": "2025-10-23T16:45:05.738389Z",
     "start_time": "2025-10-23T16:45:03.422147Z"
    }
   },
   "source": [
    "import pandas as pd\n",
    "import matplotlib.pyplot as plt\n",
    "import seaborn as sns\n",
    "\n",
    "# Load the dataset\n",
    "try:\n",
    "    df = pd.read_csv('../twitter.csv')\n",
    "except FileNotFoundError:\n",
    "    print(\"Error: 'twitter.csv' not found. Please make sure the file is in the correct directory.\")\n",
    "    exit()"
   ],
   "outputs": [],
   "execution_count": 1
  },
  {
   "metadata": {
    "ExecuteTime": {
     "end_time": "2025-10-23T16:45:05.780397Z",
     "start_time": "2025-10-23T16:45:05.748449Z"
    }
   },
   "cell_type": "code",
   "source": [
    "# Data Cleaning and Preparation\n",
    "# Convert date to datetime objects\n",
    "df['date'] = pd.to_datetime(df['date'], format='%d-%m-%Y')"
   ],
   "id": "cb0ecac5a95fa554",
   "outputs": [],
   "execution_count": 2
  },
  {
   "metadata": {
    "ExecuteTime": {
     "end_time": "2025-10-23T16:45:05.804725Z",
     "start_time": "2025-10-23T16:45:05.790530Z"
    }
   },
   "cell_type": "code",
   "source": "df['date'].dtype",
   "id": "56460b0fcdc86b20",
   "outputs": [
    {
     "data": {
      "text/plain": [
       "dtype('<M8[ns]')"
      ]
     },
     "execution_count": 3,
     "metadata": {},
     "output_type": "execute_result"
    }
   ],
   "execution_count": 3
  },
  {
   "metadata": {
    "ExecuteTime": {
     "end_time": "2025-10-23T16:45:05.872071Z",
     "start_time": "2025-10-23T16:45:05.843048Z"
    }
   },
   "cell_type": "code",
   "source": "df.info()",
   "id": "ad2f93d0badafb62",
   "outputs": [
    {
     "name": "stdout",
     "output_type": "stream",
     "text": [
      "<class 'pandas.core.frame.DataFrame'>\n",
      "RangeIndex: 1166 entries, 0 to 1165\n",
      "Data columns (total 21 columns):\n",
      " #   Column               Non-Null Count  Dtype         \n",
      "---  ------               --------------  -----         \n",
      " 0   Unnamed: 0           1166 non-null   int64         \n",
      " 1   Tweet                1166 non-null   object        \n",
      " 2   id                   1166 non-null   float64       \n",
      " 3   time                 1166 non-null   object        \n",
      " 4   impressions          1166 non-null   int64         \n",
      " 5   engagements          1166 non-null   int64         \n",
      " 6   engagement rate      1166 non-null   float64       \n",
      " 7   retweets             1166 non-null   int64         \n",
      " 8   replies              1166 non-null   int64         \n",
      " 9   likes                1166 non-null   int64         \n",
      " 10  user profile clicks  1166 non-null   int64         \n",
      " 11  url clicks           1166 non-null   int64         \n",
      " 12  hashtag clicks       1166 non-null   int64         \n",
      " 13  detail expands       1166 non-null   int64         \n",
      " 14  media views          1166 non-null   int64         \n",
      " 15  media engagements    1166 non-null   int64         \n",
      " 16  date                 1166 non-null   datetime64[ns]\n",
      " 17  time_extracted       1166 non-null   object        \n",
      " 18  Day                  1166 non-null   int64         \n",
      " 19  Month                1166 non-null   int64         \n",
      " 20  Year                 1166 non-null   int64         \n",
      "dtypes: datetime64[ns](1), float64(2), int64(15), object(3)\n",
      "memory usage: 191.4+ KB\n"
     ]
    }
   ],
   "execution_count": 4
  },
  {
   "metadata": {
    "ExecuteTime": {
     "end_time": "2025-10-23T16:45:05.891446Z",
     "start_time": "2025-10-23T16:45:05.881714Z"
    }
   },
   "cell_type": "code",
   "source": [
    "# Filter 1: At least one interaction type\n",
    "df_filtered = df[(df['url clicks'] > 0) | (df['user profile clicks'] > 0) | (df['hashtag clicks'] > 0)].copy()"
   ],
   "id": "65414425690a7268",
   "outputs": [],
   "execution_count": 5
  },
  {
   "metadata": {
    "ExecuteTime": {
     "end_time": "2025-10-23T16:45:05.950416Z",
     "start_time": "2025-10-23T16:45:05.906463Z"
    }
   },
   "cell_type": "code",
   "source": "df_filtered.head(5)",
   "id": "109cc1c5e709dfc5",
   "outputs": [
    {
     "data": {
      "text/plain": [
       "   Unnamed: 0                                              Tweet  \\\n",
       "0           0  id ligula suspendisse ornare consequat lectus ...   \n",
       "2           2  leo rhoncus sed vestibulum sit amet cursus id ...   \n",
       "5           5  consequat metus sapien ut nunc vestibulum ante...   \n",
       "6           6  morbi odio odio elementum eu interdum eu tinci...   \n",
       "7           7  eget massa tempor convallis nulla neque libero...   \n",
       "\n",
       "             id                       time  impressions  engagements  \\\n",
       "0  6.670000e+15  2020-06-30 21:09:00+00:00          365            4   \n",
       "2  2.810000e+14  2020-06-30 16:59:00+00:00         2644           46   \n",
       "5  7.160000e+15  2020-06-30 12:06:00+00:00          962           37   \n",
       "6  8.410000e+15  2020-06-30 11:29:00+00:00          198            4   \n",
       "7  1.700000e+15  2020-06-30 11:20:00+00:00         1298           28   \n",
       "\n",
       "   engagement rate  retweets  replies  likes  ...  url clicks  hashtag clicks  \\\n",
       "0         0.010959         0        0      1  ...           0               0   \n",
       "2         0.017398         1        1     17  ...           3               0   \n",
       "5         0.038462         0        2      7  ...           0               3   \n",
       "6         0.020202         0        0      1  ...           0               0   \n",
       "7         0.021572         0        2      3  ...           0               3   \n",
       "\n",
       "   detail expands  media views  media engagements       date time_extracted  \\\n",
       "0               1            0                  0 2020-06-30          21:09   \n",
       "2              23          354                  1 2020-06-30          16:59   \n",
       "5              19            0                  0 2020-06-30          12:06   \n",
       "6               2            0                  0 2020-06-30          11:29   \n",
       "7              20            0                  0 2020-06-30          11:20   \n",
       "\n",
       "  Day  Month  Year  \n",
       "0  30      6  2020  \n",
       "2  30      6  2020  \n",
       "5  30      6  2020  \n",
       "6  30      6  2020  \n",
       "7  30      6  2020  \n",
       "\n",
       "[5 rows x 21 columns]"
      ],
      "text/html": [
       "<div>\n",
       "<style scoped>\n",
       "    .dataframe tbody tr th:only-of-type {\n",
       "        vertical-align: middle;\n",
       "    }\n",
       "\n",
       "    .dataframe tbody tr th {\n",
       "        vertical-align: top;\n",
       "    }\n",
       "\n",
       "    .dataframe thead th {\n",
       "        text-align: right;\n",
       "    }\n",
       "</style>\n",
       "<table border=\"1\" class=\"dataframe\">\n",
       "  <thead>\n",
       "    <tr style=\"text-align: right;\">\n",
       "      <th></th>\n",
       "      <th>Unnamed: 0</th>\n",
       "      <th>Tweet</th>\n",
       "      <th>id</th>\n",
       "      <th>time</th>\n",
       "      <th>impressions</th>\n",
       "      <th>engagements</th>\n",
       "      <th>engagement rate</th>\n",
       "      <th>retweets</th>\n",
       "      <th>replies</th>\n",
       "      <th>likes</th>\n",
       "      <th>...</th>\n",
       "      <th>url clicks</th>\n",
       "      <th>hashtag clicks</th>\n",
       "      <th>detail expands</th>\n",
       "      <th>media views</th>\n",
       "      <th>media engagements</th>\n",
       "      <th>date</th>\n",
       "      <th>time_extracted</th>\n",
       "      <th>Day</th>\n",
       "      <th>Month</th>\n",
       "      <th>Year</th>\n",
       "    </tr>\n",
       "  </thead>\n",
       "  <tbody>\n",
       "    <tr>\n",
       "      <th>0</th>\n",
       "      <td>0</td>\n",
       "      <td>id ligula suspendisse ornare consequat lectus ...</td>\n",
       "      <td>6.670000e+15</td>\n",
       "      <td>2020-06-30 21:09:00+00:00</td>\n",
       "      <td>365</td>\n",
       "      <td>4</td>\n",
       "      <td>0.010959</td>\n",
       "      <td>0</td>\n",
       "      <td>0</td>\n",
       "      <td>1</td>\n",
       "      <td>...</td>\n",
       "      <td>0</td>\n",
       "      <td>0</td>\n",
       "      <td>1</td>\n",
       "      <td>0</td>\n",
       "      <td>0</td>\n",
       "      <td>2020-06-30</td>\n",
       "      <td>21:09</td>\n",
       "      <td>30</td>\n",
       "      <td>6</td>\n",
       "      <td>2020</td>\n",
       "    </tr>\n",
       "    <tr>\n",
       "      <th>2</th>\n",
       "      <td>2</td>\n",
       "      <td>leo rhoncus sed vestibulum sit amet cursus id ...</td>\n",
       "      <td>2.810000e+14</td>\n",
       "      <td>2020-06-30 16:59:00+00:00</td>\n",
       "      <td>2644</td>\n",
       "      <td>46</td>\n",
       "      <td>0.017398</td>\n",
       "      <td>1</td>\n",
       "      <td>1</td>\n",
       "      <td>17</td>\n",
       "      <td>...</td>\n",
       "      <td>3</td>\n",
       "      <td>0</td>\n",
       "      <td>23</td>\n",
       "      <td>354</td>\n",
       "      <td>1</td>\n",
       "      <td>2020-06-30</td>\n",
       "      <td>16:59</td>\n",
       "      <td>30</td>\n",
       "      <td>6</td>\n",
       "      <td>2020</td>\n",
       "    </tr>\n",
       "    <tr>\n",
       "      <th>5</th>\n",
       "      <td>5</td>\n",
       "      <td>consequat metus sapien ut nunc vestibulum ante...</td>\n",
       "      <td>7.160000e+15</td>\n",
       "      <td>2020-06-30 12:06:00+00:00</td>\n",
       "      <td>962</td>\n",
       "      <td>37</td>\n",
       "      <td>0.038462</td>\n",
       "      <td>0</td>\n",
       "      <td>2</td>\n",
       "      <td>7</td>\n",
       "      <td>...</td>\n",
       "      <td>0</td>\n",
       "      <td>3</td>\n",
       "      <td>19</td>\n",
       "      <td>0</td>\n",
       "      <td>0</td>\n",
       "      <td>2020-06-30</td>\n",
       "      <td>12:06</td>\n",
       "      <td>30</td>\n",
       "      <td>6</td>\n",
       "      <td>2020</td>\n",
       "    </tr>\n",
       "    <tr>\n",
       "      <th>6</th>\n",
       "      <td>6</td>\n",
       "      <td>morbi odio odio elementum eu interdum eu tinci...</td>\n",
       "      <td>8.410000e+15</td>\n",
       "      <td>2020-06-30 11:29:00+00:00</td>\n",
       "      <td>198</td>\n",
       "      <td>4</td>\n",
       "      <td>0.020202</td>\n",
       "      <td>0</td>\n",
       "      <td>0</td>\n",
       "      <td>1</td>\n",
       "      <td>...</td>\n",
       "      <td>0</td>\n",
       "      <td>0</td>\n",
       "      <td>2</td>\n",
       "      <td>0</td>\n",
       "      <td>0</td>\n",
       "      <td>2020-06-30</td>\n",
       "      <td>11:29</td>\n",
       "      <td>30</td>\n",
       "      <td>6</td>\n",
       "      <td>2020</td>\n",
       "    </tr>\n",
       "    <tr>\n",
       "      <th>7</th>\n",
       "      <td>7</td>\n",
       "      <td>eget massa tempor convallis nulla neque libero...</td>\n",
       "      <td>1.700000e+15</td>\n",
       "      <td>2020-06-30 11:20:00+00:00</td>\n",
       "      <td>1298</td>\n",
       "      <td>28</td>\n",
       "      <td>0.021572</td>\n",
       "      <td>0</td>\n",
       "      <td>2</td>\n",
       "      <td>3</td>\n",
       "      <td>...</td>\n",
       "      <td>0</td>\n",
       "      <td>3</td>\n",
       "      <td>20</td>\n",
       "      <td>0</td>\n",
       "      <td>0</td>\n",
       "      <td>2020-06-30</td>\n",
       "      <td>11:20</td>\n",
       "      <td>30</td>\n",
       "      <td>6</td>\n",
       "      <td>2020</td>\n",
       "    </tr>\n",
       "  </tbody>\n",
       "</table>\n",
       "<p>5 rows × 21 columns</p>\n",
       "</div>"
      ]
     },
     "execution_count": 6,
     "metadata": {},
     "output_type": "execute_result"
    }
   ],
   "execution_count": 6
  },
  {
   "metadata": {
    "ExecuteTime": {
     "end_time": "2025-10-23T16:45:06.068913Z",
     "start_time": "2025-10-23T16:45:06.046549Z"
    }
   },
   "cell_type": "code",
   "source": "df_filtered.info()",
   "id": "ac19275b74f8b252",
   "outputs": [
    {
     "name": "stdout",
     "output_type": "stream",
     "text": [
      "<class 'pandas.core.frame.DataFrame'>\n",
      "Index: 525 entries, 0 to 1165\n",
      "Data columns (total 21 columns):\n",
      " #   Column               Non-Null Count  Dtype         \n",
      "---  ------               --------------  -----         \n",
      " 0   Unnamed: 0           525 non-null    int64         \n",
      " 1   Tweet                525 non-null    object        \n",
      " 2   id                   525 non-null    float64       \n",
      " 3   time                 525 non-null    object        \n",
      " 4   impressions          525 non-null    int64         \n",
      " 5   engagements          525 non-null    int64         \n",
      " 6   engagement rate      525 non-null    float64       \n",
      " 7   retweets             525 non-null    int64         \n",
      " 8   replies              525 non-null    int64         \n",
      " 9   likes                525 non-null    int64         \n",
      " 10  user profile clicks  525 non-null    int64         \n",
      " 11  url clicks           525 non-null    int64         \n",
      " 12  hashtag clicks       525 non-null    int64         \n",
      " 13  detail expands       525 non-null    int64         \n",
      " 14  media views          525 non-null    int64         \n",
      " 15  media engagements    525 non-null    int64         \n",
      " 16  date                 525 non-null    datetime64[ns]\n",
      " 17  time_extracted       525 non-null    object        \n",
      " 18  Day                  525 non-null    int64         \n",
      " 19  Month                525 non-null    int64         \n",
      " 20  Year                 525 non-null    int64         \n",
      "dtypes: datetime64[ns](1), float64(2), int64(15), object(3)\n",
      "memory usage: 90.2+ KB\n"
     ]
    }
   ],
   "execution_count": 7
  },
  {
   "metadata": {
    "ExecuteTime": {
     "end_time": "2025-10-23T16:45:06.216162Z",
     "start_time": "2025-10-23T16:45:06.188612Z"
    }
   },
   "cell_type": "code",
   "source": [
    "# Filter 2: Tweet date is an even number\n",
    "df_filtered = df_filtered[df_filtered['date'].dt.day % 2 == 0]"
   ],
   "id": "66e50a422f2f96ce",
   "outputs": [],
   "execution_count": 8
  },
  {
   "metadata": {
    "ExecuteTime": {
     "end_time": "2025-10-23T16:45:06.265481Z",
     "start_time": "2025-10-23T16:45:06.237982Z"
    }
   },
   "cell_type": "code",
   "source": "df_filtered.info()",
   "id": "c99f177de1d12f4f",
   "outputs": [
    {
     "name": "stdout",
     "output_type": "stream",
     "text": [
      "<class 'pandas.core.frame.DataFrame'>\n",
      "Index: 265 entries, 0 to 1146\n",
      "Data columns (total 21 columns):\n",
      " #   Column               Non-Null Count  Dtype         \n",
      "---  ------               --------------  -----         \n",
      " 0   Unnamed: 0           265 non-null    int64         \n",
      " 1   Tweet                265 non-null    object        \n",
      " 2   id                   265 non-null    float64       \n",
      " 3   time                 265 non-null    object        \n",
      " 4   impressions          265 non-null    int64         \n",
      " 5   engagements          265 non-null    int64         \n",
      " 6   engagement rate      265 non-null    float64       \n",
      " 7   retweets             265 non-null    int64         \n",
      " 8   replies              265 non-null    int64         \n",
      " 9   likes                265 non-null    int64         \n",
      " 10  user profile clicks  265 non-null    int64         \n",
      " 11  url clicks           265 non-null    int64         \n",
      " 12  hashtag clicks       265 non-null    int64         \n",
      " 13  detail expands       265 non-null    int64         \n",
      " 14  media views          265 non-null    int64         \n",
      " 15  media engagements    265 non-null    int64         \n",
      " 16  date                 265 non-null    datetime64[ns]\n",
      " 17  time_extracted       265 non-null    object        \n",
      " 18  Day                  265 non-null    int64         \n",
      " 19  Month                265 non-null    int64         \n",
      " 20  Year                 265 non-null    int64         \n",
      "dtypes: datetime64[ns](1), float64(2), int64(15), object(3)\n",
      "memory usage: 45.5+ KB\n"
     ]
    }
   ],
   "execution_count": 9
  },
  {
   "metadata": {
    "ExecuteTime": {
     "end_time": "2025-10-23T16:45:06.344646Z",
     "start_time": "2025-10-23T16:45:06.310746Z"
    }
   },
   "cell_type": "code",
   "source": [
    "# # Filter 3: Tweet word count is above 40\n",
    "# df_filtered['word_count'] = df_filtered['Tweet'].str.split().str.len()\n",
    "# df_filtered = df_filtered[df_filtered['word_count'] > 40]\n",
    "\n",
    "#Count Only Letters (Exclude Spaces and Punctuation)\n",
    "df_filtered['letter_count'] = df['Tweet'].str.replace(r'[^A-Za-z]', '', regex=True).str.len()\n",
    "df_filtered = df_filtered[df_filtered['letter_count'] > 40]  # Adjust threshold as needed"
   ],
   "id": "cbcbe736f5545987",
   "outputs": [],
   "execution_count": 10
  },
  {
   "metadata": {
    "ExecuteTime": {
     "end_time": "2025-10-23T16:45:06.900907Z",
     "start_time": "2025-10-23T16:45:06.876020Z"
    }
   },
   "cell_type": "code",
   "source": "df_filtered.info()",
   "id": "f5c7f06db759bf1a",
   "outputs": [
    {
     "name": "stdout",
     "output_type": "stream",
     "text": [
      "<class 'pandas.core.frame.DataFrame'>\n",
      "Index: 265 entries, 0 to 1146\n",
      "Data columns (total 22 columns):\n",
      " #   Column               Non-Null Count  Dtype         \n",
      "---  ------               --------------  -----         \n",
      " 0   Unnamed: 0           265 non-null    int64         \n",
      " 1   Tweet                265 non-null    object        \n",
      " 2   id                   265 non-null    float64       \n",
      " 3   time                 265 non-null    object        \n",
      " 4   impressions          265 non-null    int64         \n",
      " 5   engagements          265 non-null    int64         \n",
      " 6   engagement rate      265 non-null    float64       \n",
      " 7   retweets             265 non-null    int64         \n",
      " 8   replies              265 non-null    int64         \n",
      " 9   likes                265 non-null    int64         \n",
      " 10  user profile clicks  265 non-null    int64         \n",
      " 11  url clicks           265 non-null    int64         \n",
      " 12  hashtag clicks       265 non-null    int64         \n",
      " 13  detail expands       265 non-null    int64         \n",
      " 14  media views          265 non-null    int64         \n",
      " 15  media engagements    265 non-null    int64         \n",
      " 16  date                 265 non-null    datetime64[ns]\n",
      " 17  time_extracted       265 non-null    object        \n",
      " 18  Day                  265 non-null    int64         \n",
      " 19  Month                265 non-null    int64         \n",
      " 20  Year                 265 non-null    int64         \n",
      " 21  letter_count         265 non-null    int64         \n",
      "dtypes: datetime64[ns](1), float64(2), int64(16), object(3)\n",
      "memory usage: 47.6+ KB\n"
     ]
    }
   ],
   "execution_count": 11
  },
  {
   "metadata": {
    "ExecuteTime": {
     "end_time": "2025-10-23T16:45:06.932036Z",
     "start_time": "2025-10-23T16:45:06.908379Z"
    }
   },
   "cell_type": "code",
   "source": [
    "# Categorize tweets\n",
    "def categorize_tweet(row):\n",
    "    if row['media views'] > 0 or row['media engagements'] > 0:\n",
    "        return 'With Media'\n",
    "    if row['url clicks'] > 0:\n",
    "        return 'With Links'\n",
    "    if row['hashtag clicks'] > 0:\n",
    "        return 'With Hashtags'\n",
    "    return 'Other'\n",
    "\n",
    "df_filtered['category'] = df_filtered.apply(categorize_tweet, axis=1)"
   ],
   "id": "b1e089c6286cd626",
   "outputs": [],
   "execution_count": 12
  },
  {
   "metadata": {
    "ExecuteTime": {
     "end_time": "2025-10-23T16:45:06.963221Z",
     "start_time": "2025-10-23T16:45:06.940499Z"
    }
   },
   "cell_type": "code",
   "source": [
    "df_filtered['category'] = df_filtered.apply(categorize_tweet, axis=1)\n",
    "\n",
    "# Aggregate data for the chart\n",
    "category_data = df_filtered.groupby('category')[['url clicks', 'user profile clicks', 'hashtag clicks']].sum().reset_index()\n",
    "\n",
    "# Melt the dataframe for easy plotting with seaborn\n",
    "melted_data = category_data.melt(id_vars='category', var_name='Click Type', value_name='Total Clicks')"
   ],
   "id": "10371b474237c85a",
   "outputs": [],
   "execution_count": 13
  },
  {
   "metadata": {
    "ExecuteTime": {
     "end_time": "2025-10-23T16:45:08.155492Z",
     "start_time": "2025-10-23T16:45:06.978699Z"
    }
   },
   "cell_type": "code",
   "source": [
    "# Create the clustered bar chart\n",
    "plt.figure(figsize=(12, 8))\n",
    "sns.barplot(x='category', y='Total Clicks', hue='Click Type', data=melted_data)\n",
    "\n",
    "# Add titles and labels\n",
    "plt.title('Sum of URL, Profile, and Hashtag Clicks by Tweet Category\\n(Filtered: Even Day, Word Count > 40, At least one click type)')\n",
    "plt.xlabel('Tweet Category')\n",
    "plt.ylabel('Sum of Clicks')\n",
    "plt.xticks(rotation=0)\n",
    "plt.legend(title='Click Type')\n",
    "\n",
    "# Add a description\n",
    "description = \"\"\"\n",
    "This chart shows the sum of URL clicks, user profile clicks, and hashtag clicks,\n",
    "broken down by tweet category. The data is filtered to include only tweets that meet\n",
    "the following criteria:\n",
    "- The tweet was posted on an even-numbered day of the month.\n",
    "- The tweet has a word count greater than 40.\n",
    "- The tweet has at least one URL click, user profile click, or hashtag click.\n",
    "\"\"\"\n",
    "plt.figtext(0.5, -0.1, description, ha=\"center\", fontsize=10, wrap=True)\n",
    "plt.plot()"
   ],
   "id": "6520dfa9ae17637b",
   "outputs": [
    {
     "data": {
      "text/plain": [
       "[]"
      ]
     },
     "execution_count": 14,
     "metadata": {},
     "output_type": "execute_result"
    },
    {
     "data": {
      "text/plain": [
       "<Figure size 1200x800 with 1 Axes>"
      ],
      "image/png": "[encoded data removed]"
     },
     "metadata": {},
     "output_type": "display_data"
    }
   ],
   "execution_count": 14
  },
  {
   "metadata": {
    "ExecuteTime": {
     "end_time": "2025-10-23T16:45:08.172447Z",
     "start_time": "2025-10-23T16:45:08.169456Z"
    }
   },
   "cell_type": "code",
   "source": "",
   "id": "7412f8213d0d412d",
   "outputs": [],
   "execution_count": null
  }
 ],
 "metadata": {
  "kernelspec": {
   "display_name": "Python 3",
   "language": "python",
   "name": "python3"
  },
  "language_info": {
   "codemirror_mode": {
    "name": "ipython",
    "version": 2
   },
   "file_extension": ".py",
   "mimetype": "text/x-python",
   "name": "python",
   "nbconvert_exporter": "python",
   "pygments_lexer": "ipython2",
   "version": "2.7.6"
  }
 },
 "nbformat": 4,
 "nbformat_minor": 5
}
